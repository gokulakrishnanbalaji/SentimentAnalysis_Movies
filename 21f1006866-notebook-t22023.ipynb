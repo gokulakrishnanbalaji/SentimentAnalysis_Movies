{
 "cells": [
  {
   "cell_type": "code",
   "execution_count": 1,
   "id": "c4b25048",
   "metadata": {
    "_cell_guid": "b1076dfc-b9ad-4769-8c92-a6c4dae69d19",
    "_uuid": "8f2839f25d086af736a60e9eeb907d3b93b6e0e5",
    "execution": {
     "iopub.execute_input": "2023-07-24T13:26:18.420918Z",
     "iopub.status.busy": "2023-07-24T13:26:18.420406Z",
     "iopub.status.idle": "2023-07-24T13:26:18.435072Z",
     "shell.execute_reply": "2023-07-24T13:26:18.433854Z"
    },
    "papermill": {
     "duration": 0.041305,
     "end_time": "2023-07-24T13:26:18.437210",
     "exception": false,
     "start_time": "2023-07-24T13:26:18.395905",
     "status": "completed"
    },
    "tags": []
   },
   "outputs": [
    {
     "name": "stdout",
     "output_type": "stream",
     "text": [
      "/kaggle/input/sentiment-prediction-on-movie-reviews/movies.csv\n",
      "/kaggle/input/sentiment-prediction-on-movie-reviews/sample.csv\n",
      "/kaggle/input/sentiment-prediction-on-movie-reviews/train.csv\n",
      "/kaggle/input/sentiment-prediction-on-movie-reviews/test.csv\n"
     ]
    }
   ],
   "source": [
    "# This Python 3 environment comes with many helpful analytics libraries installed\n",
    "# It is defined by the kaggle/python Docker image: https://github.com/kaggle/docker-python\n",
    "# For example, here's several helpful packages to load\n",
    "\n",
    "import numpy as np # linear algebra\n",
    "import pandas as pd # data processing, CSV file I/O (e.g. pd.read_csv)\n",
    "\n",
    "# Input data files are available in the read-only \"../input/\" directory\n",
    "# For example, running this (by clicking run or pressing Shift+Enter) will list all files under the input directory\n",
    "\n",
    "import os\n",
    "for dirname, _, filenames in os.walk('/kaggle/input'):\n",
    "    for filename in filenames:\n",
    "        print(os.path.join(dirname, filename))\n",
    "\n",
    "# You can write up to 20GB to the current directory (/kaggle/working/) that gets preserved as output when you create a version using \"Save & Run All\" \n",
    "# You can also write temporary files to /kaggle/temp/, but they won't be saved outside of the current session"
   ]
  },
  {
   "cell_type": "code",
   "execution_count": 2,
   "id": "74216cac",
   "metadata": {
    "execution": {
     "iopub.execute_input": "2023-07-24T13:26:18.485202Z",
     "iopub.status.busy": "2023-07-24T13:26:18.484778Z",
     "iopub.status.idle": "2023-07-24T13:26:20.708619Z",
     "shell.execute_reply": "2023-07-24T13:26:20.707405Z"
    },
    "papermill": {
     "duration": 2.251277,
     "end_time": "2023-07-24T13:26:20.711522",
     "exception": false,
     "start_time": "2023-07-24T13:26:18.460245",
     "status": "completed"
    },
    "tags": []
   },
   "outputs": [],
   "source": [
    "train=pd.read_csv('/kaggle/input/sentiment-prediction-on-movie-reviews/train.csv')\n",
    "test=pd.read_csv('/kaggle/input/sentiment-prediction-on-movie-reviews/test.csv')\n",
    "movies = pd.read_csv('/kaggle/input/sentiment-prediction-on-movie-reviews/movies.csv')"
   ]
  },
  {
   "cell_type": "markdown",
   "id": "d7c0beee",
   "metadata": {
    "papermill": {
     "duration": 0.022207,
     "end_time": "2023-07-24T13:26:20.756337",
     "exception": false,
     "start_time": "2023-07-24T13:26:20.734130",
     "status": "completed"
    },
    "tags": []
   },
   "source": [
    "# Let's explore movies dataset"
   ]
  },
  {
   "cell_type": "code",
   "execution_count": 3,
   "id": "4b77975d",
   "metadata": {
    "execution": {
     "iopub.execute_input": "2023-07-24T13:26:20.802687Z",
     "iopub.status.busy": "2023-07-24T13:26:20.802275Z",
     "iopub.status.idle": "2023-07-24T13:26:20.837901Z",
     "shell.execute_reply": "2023-07-24T13:26:20.836819Z"
    },
    "papermill": {
     "duration": 0.062222,
     "end_time": "2023-07-24T13:26:20.840545",
     "exception": false,
     "start_time": "2023-07-24T13:26:20.778323",
     "status": "completed"
    },
    "tags": []
   },
   "outputs": [
    {
     "data": {
      "text/html": [
       "<div>\n",
       "<style scoped>\n",
       "    .dataframe tbody tr th:only-of-type {\n",
       "        vertical-align: middle;\n",
       "    }\n",
       "\n",
       "    .dataframe tbody tr th {\n",
       "        vertical-align: top;\n",
       "    }\n",
       "\n",
       "    .dataframe thead th {\n",
       "        text-align: right;\n",
       "    }\n",
       "</style>\n",
       "<table border=\"1\" class=\"dataframe\">\n",
       "  <thead>\n",
       "    <tr style=\"text-align: right;\">\n",
       "      <th></th>\n",
       "      <th>movieid</th>\n",
       "      <th>title</th>\n",
       "      <th>audienceScore</th>\n",
       "      <th>rating</th>\n",
       "      <th>ratingContents</th>\n",
       "      <th>releaseDateTheaters</th>\n",
       "      <th>releaseDateStreaming</th>\n",
       "      <th>runtimeMinutes</th>\n",
       "      <th>genre</th>\n",
       "      <th>originalLanguage</th>\n",
       "      <th>director</th>\n",
       "      <th>boxOffice</th>\n",
       "      <th>distributor</th>\n",
       "      <th>soundType</th>\n",
       "    </tr>\n",
       "  </thead>\n",
       "  <tbody>\n",
       "    <tr>\n",
       "      <th>0</th>\n",
       "      <td>han_solo_heroic_myth_wonder_woman</td>\n",
       "      <td>Han Solo Heroic Myth Wonder Woman</td>\n",
       "      <td>50.0</td>\n",
       "      <td>NaN</td>\n",
       "      <td>NaN</td>\n",
       "      <td>NaN</td>\n",
       "      <td>2018-08-25</td>\n",
       "      <td>75.0</td>\n",
       "      <td>Comedy, Horror, Sci-fi</td>\n",
       "      <td>English</td>\n",
       "      <td>Claude Nicolet</td>\n",
       "      <td>NaN</td>\n",
       "      <td>NaN</td>\n",
       "      <td>NaN</td>\n",
       "    </tr>\n",
       "    <tr>\n",
       "      <th>1</th>\n",
       "      <td>voyage_tyler_durden_han_solo_stardust</td>\n",
       "      <td>Voyage Tyler Durden Han Solo Stardust</td>\n",
       "      <td>NaN</td>\n",
       "      <td>NaN</td>\n",
       "      <td>NaN</td>\n",
       "      <td>NaN</td>\n",
       "      <td>2020-02-11</td>\n",
       "      <td>114.0</td>\n",
       "      <td>Drama</td>\n",
       "      <td>English</td>\n",
       "      <td>Nathan Haack</td>\n",
       "      <td>NaN</td>\n",
       "      <td>NaN</td>\n",
       "      <td>NaN</td>\n",
       "    </tr>\n",
       "    <tr>\n",
       "      <th>2</th>\n",
       "      <td>norman_bates_ferris_bueller_hermione_granger_v...</td>\n",
       "      <td>Norman Bates Ferris Bueller Hermione Granger V...</td>\n",
       "      <td>43.0</td>\n",
       "      <td>NaN</td>\n",
       "      <td>NaN</td>\n",
       "      <td>NaN</td>\n",
       "      <td>NaN</td>\n",
       "      <td>120.0</td>\n",
       "      <td>Drama</td>\n",
       "      <td>Korean</td>\n",
       "      <td>Theresa Smith</td>\n",
       "      <td>NaN</td>\n",
       "      <td>NaN</td>\n",
       "      <td>NaN</td>\n",
       "    </tr>\n",
       "    <tr>\n",
       "      <th>3</th>\n",
       "      <td>elegant_hermione_granger</td>\n",
       "      <td>Elegant Hermione Granger</td>\n",
       "      <td>60.0</td>\n",
       "      <td>NaN</td>\n",
       "      <td>NaN</td>\n",
       "      <td>NaN</td>\n",
       "      <td>2020-10-23</td>\n",
       "      <td>90.0</td>\n",
       "      <td>Action, Mystery &amp; thriller</td>\n",
       "      <td>English</td>\n",
       "      <td>Donald Lewis</td>\n",
       "      <td>NaN</td>\n",
       "      <td>NaN</td>\n",
       "      <td>NaN</td>\n",
       "    </tr>\n",
       "    <tr>\n",
       "      <th>4</th>\n",
       "      <td>adventure_rocky_balboa</td>\n",
       "      <td>Adventure Rocky Balboa</td>\n",
       "      <td>70.0</td>\n",
       "      <td>NaN</td>\n",
       "      <td>NaN</td>\n",
       "      <td>NaN</td>\n",
       "      <td>2017-03-27</td>\n",
       "      <td>80.0</td>\n",
       "      <td>Fantasy, Adventure, Animation</td>\n",
       "      <td>English</td>\n",
       "      <td>Howard Simms</td>\n",
       "      <td>NaN</td>\n",
       "      <td>NaN</td>\n",
       "      <td>NaN</td>\n",
       "    </tr>\n",
       "  </tbody>\n",
       "</table>\n",
       "</div>"
      ],
      "text/plain": [
       "                                             movieid  \\\n",
       "0                  han_solo_heroic_myth_wonder_woman   \n",
       "1              voyage_tyler_durden_han_solo_stardust   \n",
       "2  norman_bates_ferris_bueller_hermione_granger_v...   \n",
       "3                           elegant_hermione_granger   \n",
       "4                             adventure_rocky_balboa   \n",
       "\n",
       "                                               title  audienceScore rating  \\\n",
       "0                  Han Solo Heroic Myth Wonder Woman           50.0    NaN   \n",
       "1              Voyage Tyler Durden Han Solo Stardust            NaN    NaN   \n",
       "2  Norman Bates Ferris Bueller Hermione Granger V...           43.0    NaN   \n",
       "3                           Elegant Hermione Granger           60.0    NaN   \n",
       "4                             Adventure Rocky Balboa           70.0    NaN   \n",
       "\n",
       "  ratingContents releaseDateTheaters releaseDateStreaming  runtimeMinutes  \\\n",
       "0            NaN                 NaN           2018-08-25            75.0   \n",
       "1            NaN                 NaN           2020-02-11           114.0   \n",
       "2            NaN                 NaN                  NaN           120.0   \n",
       "3            NaN                 NaN           2020-10-23            90.0   \n",
       "4            NaN                 NaN           2017-03-27            80.0   \n",
       "\n",
       "                           genre originalLanguage        director boxOffice  \\\n",
       "0         Comedy, Horror, Sci-fi          English  Claude Nicolet       NaN   \n",
       "1                          Drama          English    Nathan Haack       NaN   \n",
       "2                          Drama           Korean   Theresa Smith       NaN   \n",
       "3     Action, Mystery & thriller          English    Donald Lewis       NaN   \n",
       "4  Fantasy, Adventure, Animation          English    Howard Simms       NaN   \n",
       "\n",
       "  distributor soundType  \n",
       "0         NaN       NaN  \n",
       "1         NaN       NaN  \n",
       "2         NaN       NaN  \n",
       "3         NaN       NaN  \n",
       "4         NaN       NaN  "
      ]
     },
     "execution_count": 3,
     "metadata": {},
     "output_type": "execute_result"
    }
   ],
   "source": [
    "movies.head()"
   ]
  },
  {
   "cell_type": "markdown",
   "id": "102a51e6",
   "metadata": {
    "papermill": {
     "duration": 0.022829,
     "end_time": "2023-07-24T13:26:20.886964",
     "exception": false,
     "start_time": "2023-07-24T13:26:20.864135",
     "status": "completed"
    },
    "tags": []
   },
   "source": [
    "## Checking the features"
   ]
  },
  {
   "cell_type": "code",
   "execution_count": 4,
   "id": "3edc9f1b",
   "metadata": {
    "execution": {
     "iopub.execute_input": "2023-07-24T13:26:20.933835Z",
     "iopub.status.busy": "2023-07-24T13:26:20.933478Z",
     "iopub.status.idle": "2023-07-24T13:26:20.938410Z",
     "shell.execute_reply": "2023-07-24T13:26:20.937651Z"
    },
    "papermill": {
     "duration": 0.030912,
     "end_time": "2023-07-24T13:26:20.940656",
     "exception": false,
     "start_time": "2023-07-24T13:26:20.909744",
     "status": "completed"
    },
    "tags": []
   },
   "outputs": [
    {
     "name": "stdout",
     "output_type": "stream",
     "text": [
      "1 : movieid\n",
      "2 : title\n",
      "3 : audienceScore\n",
      "4 : rating\n",
      "5 : ratingContents\n",
      "6 : releaseDateTheaters\n",
      "7 : releaseDateStreaming\n",
      "8 : runtimeMinutes\n",
      "9 : genre\n",
      "10 : originalLanguage\n",
      "11 : director\n",
      "12 : boxOffice\n",
      "13 : distributor\n",
      "14 : soundType\n"
     ]
    }
   ],
   "source": [
    "no_of_features = len(movies.columns)\n",
    "for i in range(no_of_features):\n",
    "    print(f'{i+1} : {movies.columns[i]}')"
   ]
  },
  {
   "cell_type": "markdown",
   "id": "c57bd137",
   "metadata": {
    "papermill": {
     "duration": 0.021946,
     "end_time": "2023-07-24T13:26:20.985234",
     "exception": false,
     "start_time": "2023-07-24T13:26:20.963288",
     "status": "completed"
    },
    "tags": []
   },
   "source": [
    "### *****1. MovieID*****"
   ]
  },
  {
   "cell_type": "code",
   "execution_count": 5,
   "id": "fcd505b6",
   "metadata": {
    "execution": {
     "iopub.execute_input": "2023-07-24T13:26:21.031343Z",
     "iopub.status.busy": "2023-07-24T13:26:21.030949Z",
     "iopub.status.idle": "2023-07-24T13:26:21.157821Z",
     "shell.execute_reply": "2023-07-24T13:26:21.156765Z"
    },
    "papermill": {
     "duration": 0.152498,
     "end_time": "2023-07-24T13:26:21.160057",
     "exception": false,
     "start_time": "2023-07-24T13:26:21.007559",
     "status": "completed"
    },
    "tags": []
   },
   "outputs": [
    {
     "data": {
      "text/plain": [
       "count                                          143258\n",
       "unique                                         126404\n",
       "top       escape_the_terminator_tyler_durden_astonish\n",
       "freq                                              367\n",
       "Name: movieid, dtype: object"
      ]
     },
     "execution_count": 5,
     "metadata": {},
     "output_type": "execute_result"
    }
   ],
   "source": [
    "movies.movieid.describe()"
   ]
  },
  {
   "cell_type": "code",
   "execution_count": 6,
   "id": "ce3a40d1",
   "metadata": {
    "execution": {
     "iopub.execute_input": "2023-07-24T13:26:21.207130Z",
     "iopub.status.busy": "2023-07-24T13:26:21.206396Z",
     "iopub.status.idle": "2023-07-24T13:26:21.221901Z",
     "shell.execute_reply": "2023-07-24T13:26:21.221070Z"
    },
    "papermill": {
     "duration": 0.041567,
     "end_time": "2023-07-24T13:26:21.223972",
     "exception": false,
     "start_time": "2023-07-24T13:26:21.182405",
     "status": "completed"
    },
    "tags": []
   },
   "outputs": [
    {
     "data": {
      "text/plain": [
       "0"
      ]
     },
     "execution_count": 6,
     "metadata": {},
     "output_type": "execute_result"
    }
   ],
   "source": [
    "movies.movieid.isna().sum()"
   ]
  },
  {
   "cell_type": "markdown",
   "id": "28fc3dcf",
   "metadata": {
    "papermill": {
     "duration": 0.022535,
     "end_time": "2023-07-24T13:26:21.268996",
     "exception": false,
     "start_time": "2023-07-24T13:26:21.246461",
     "status": "completed"
    },
    "tags": []
   },
   "source": [
    "## Takeaways\n",
    "\n",
    "#### 1. (MovieID) There are no null values, but there are some duplicate values (unique < count), we need to handle them to merge this dataset with training and test dataset."
   ]
  },
  {
   "cell_type": "markdown",
   "id": "c642092b",
   "metadata": {
    "papermill": {
     "duration": 0.022141,
     "end_time": "2023-07-24T13:26:21.313713",
     "exception": false,
     "start_time": "2023-07-24T13:26:21.291572",
     "status": "completed"
    },
    "tags": []
   },
   "source": [
    "### ***2. Title***"
   ]
  },
  {
   "cell_type": "code",
   "execution_count": 7,
   "id": "a5c2bb78",
   "metadata": {
    "execution": {
     "iopub.execute_input": "2023-07-24T13:26:21.363080Z",
     "iopub.status.busy": "2023-07-24T13:26:21.362446Z",
     "iopub.status.idle": "2023-07-24T13:26:21.474303Z",
     "shell.execute_reply": "2023-07-24T13:26:21.473579Z"
    },
    "papermill": {
     "duration": 0.138916,
     "end_time": "2023-07-24T13:26:21.476295",
     "exception": false,
     "start_time": "2023-07-24T13:26:21.337379",
     "status": "completed"
    },
    "tags": []
   },
   "outputs": [
    {
     "data": {
      "text/plain": [
       "count                                          143258\n",
       "unique                                         126404\n",
       "top       Escape The Terminator Tyler Durden Astonish\n",
       "freq                                              367\n",
       "Name: title, dtype: object"
      ]
     },
     "execution_count": 7,
     "metadata": {},
     "output_type": "execute_result"
    }
   ],
   "source": [
    "movies.title.describe()"
   ]
  },
  {
   "cell_type": "code",
   "execution_count": 8,
   "id": "7c5af318",
   "metadata": {
    "execution": {
     "iopub.execute_input": "2023-07-24T13:26:21.524672Z",
     "iopub.status.busy": "2023-07-24T13:26:21.523548Z",
     "iopub.status.idle": "2023-07-24T13:26:21.539679Z",
     "shell.execute_reply": "2023-07-24T13:26:21.538585Z"
    },
    "papermill": {
     "duration": 0.042524,
     "end_time": "2023-07-24T13:26:21.541726",
     "exception": false,
     "start_time": "2023-07-24T13:26:21.499202",
     "status": "completed"
    },
    "tags": []
   },
   "outputs": [
    {
     "data": {
      "text/plain": [
       "0"
      ]
     },
     "execution_count": 8,
     "metadata": {},
     "output_type": "execute_result"
    }
   ],
   "source": [
    "movies.movieid.isna().sum()"
   ]
  },
  {
   "cell_type": "markdown",
   "id": "dc145a5b",
   "metadata": {
    "papermill": {
     "duration": 0.022616,
     "end_time": "2023-07-24T13:26:21.587293",
     "exception": false,
     "start_time": "2023-07-24T13:26:21.564677",
     "status": "completed"
    },
    "tags": []
   },
   "source": [
    "## Takeaways\n",
    "\n",
    "#### 1. (MovieID) There are no null values, but there are ***some duplicate values*** (unique < count), we need to handle them to merge this dataset with training and test dataset.\n",
    "\n",
    "#### 2. (Title) Each movieID has unique title, because their statistics are same, we can ***remove this feature***, as it doesn't contribute to the rating of a movie, and movieID can be used as a proxy for this column"
   ]
  },
  {
   "cell_type": "markdown",
   "id": "12dc3cdf",
   "metadata": {
    "papermill": {
     "duration": 0.023404,
     "end_time": "2023-07-24T13:26:21.634047",
     "exception": false,
     "start_time": "2023-07-24T13:26:21.610643",
     "status": "completed"
    },
    "tags": []
   },
   "source": [
    "### ***3. Audience Score***"
   ]
  },
  {
   "cell_type": "code",
   "execution_count": 9,
   "id": "440adb0d",
   "metadata": {
    "execution": {
     "iopub.execute_input": "2023-07-24T13:26:21.682469Z",
     "iopub.status.busy": "2023-07-24T13:26:21.681402Z",
     "iopub.status.idle": "2023-07-24T13:26:21.708740Z",
     "shell.execute_reply": "2023-07-24T13:26:21.707764Z"
    },
    "papermill": {
     "duration": 0.054107,
     "end_time": "2023-07-24T13:26:21.711162",
     "exception": false,
     "start_time": "2023-07-24T13:26:21.657055",
     "status": "completed"
    },
    "tags": []
   },
   "outputs": [
    {
     "data": {
      "text/plain": [
       "count    73248.000000\n",
       "mean        55.674967\n",
       "std         24.553648\n",
       "min          0.000000\n",
       "25%         37.000000\n",
       "50%         57.000000\n",
       "75%         76.000000\n",
       "max        100.000000\n",
       "Name: audienceScore, dtype: float64"
      ]
     },
     "execution_count": 9,
     "metadata": {},
     "output_type": "execute_result"
    }
   ],
   "source": [
    "movies.audienceScore.describe()"
   ]
  },
  {
   "cell_type": "code",
   "execution_count": 10,
   "id": "a8a2eebc",
   "metadata": {
    "execution": {
     "iopub.execute_input": "2023-07-24T13:26:21.758456Z",
     "iopub.status.busy": "2023-07-24T13:26:21.758045Z",
     "iopub.status.idle": "2023-07-24T13:26:21.762196Z",
     "shell.execute_reply": "2023-07-24T13:26:21.761392Z"
    },
    "papermill": {
     "duration": 0.030132,
     "end_time": "2023-07-24T13:26:21.764132",
     "exception": false,
     "start_time": "2023-07-24T13:26:21.734000",
     "status": "completed"
    },
    "tags": []
   },
   "outputs": [],
   "source": [
    "# Ranges between 0 to 100, higher score, supports positive rating, might be an important feature."
   ]
  },
  {
   "cell_type": "code",
   "execution_count": 11,
   "id": "f448684f",
   "metadata": {
    "execution": {
     "iopub.execute_input": "2023-07-24T13:26:21.812994Z",
     "iopub.status.busy": "2023-07-24T13:26:21.812371Z",
     "iopub.status.idle": "2023-07-24T13:26:21.818811Z",
     "shell.execute_reply": "2023-07-24T13:26:21.817913Z"
    },
    "papermill": {
     "duration": 0.033675,
     "end_time": "2023-07-24T13:26:21.821192",
     "exception": false,
     "start_time": "2023-07-24T13:26:21.787517",
     "status": "completed"
    },
    "tags": []
   },
   "outputs": [
    {
     "data": {
      "text/plain": [
       "70010"
      ]
     },
     "execution_count": 11,
     "metadata": {},
     "output_type": "execute_result"
    }
   ],
   "source": [
    "movies.audienceScore.isna().sum()"
   ]
  },
  {
   "cell_type": "code",
   "execution_count": 12,
   "id": "799d3689",
   "metadata": {
    "execution": {
     "iopub.execute_input": "2023-07-24T13:26:21.869453Z",
     "iopub.status.busy": "2023-07-24T13:26:21.869035Z",
     "iopub.status.idle": "2023-07-24T13:26:21.875496Z",
     "shell.execute_reply": "2023-07-24T13:26:21.874299Z"
    },
    "papermill": {
     "duration": 0.032963,
     "end_time": "2023-07-24T13:26:21.877558",
     "exception": false,
     "start_time": "2023-07-24T13:26:21.844595",
     "status": "completed"
    },
    "tags": []
   },
   "outputs": [
    {
     "name": "stdout",
     "output_type": "stream",
     "text": [
      "Around 48.87 % of this column is null\n"
     ]
    }
   ],
   "source": [
    "print(f'Around {(movies.audienceScore.isna().sum()/ movies.shape[0]*100 ).round(2)} % of this column is null')"
   ]
  },
  {
   "cell_type": "markdown",
   "id": "2db42849",
   "metadata": {
    "papermill": {
     "duration": 0.022914,
     "end_time": "2023-07-24T13:26:21.923930",
     "exception": false,
     "start_time": "2023-07-24T13:26:21.901016",
     "status": "completed"
    },
    "tags": []
   },
   "source": [
    "## Takeaways\n",
    "\n",
    "#### 1. (MovieID) There are no null values, but there are ***some duplicate values*** (unique < count), we need to handle them to merge this dataset with training and test dataset.\n",
    "\n",
    "#### 2. (Title) Each movieID has unique title, because their statistics are same, we can ***remove this feature***, as it doesn't contribute to the rating of a movie, and movieID can be used as a proxy for this column\n",
    "\n",
    "#### 3. (AudienceScore) Since 49% data is nan, we can use ***regression imputation*** by other columns to predict its value and fill the missing data"
   ]
  },
  {
   "cell_type": "markdown",
   "id": "e9fa943a",
   "metadata": {
    "execution": {
     "iopub.execute_input": "2023-07-21T07:16:59.104048Z",
     "iopub.status.busy": "2023-07-21T07:16:59.102588Z",
     "iopub.status.idle": "2023-07-21T07:16:59.113337Z",
     "shell.execute_reply": "2023-07-21T07:16:59.111242Z",
     "shell.execute_reply.started": "2023-07-21T07:16:59.103992Z"
    },
    "papermill": {
     "duration": 0.022749,
     "end_time": "2023-07-24T13:26:21.969790",
     "exception": false,
     "start_time": "2023-07-24T13:26:21.947041",
     "status": "completed"
    },
    "tags": []
   },
   "source": [
    "### ***4. Rating***"
   ]
  },
  {
   "cell_type": "code",
   "execution_count": 13,
   "id": "92f6db21",
   "metadata": {
    "execution": {
     "iopub.execute_input": "2023-07-24T13:26:22.017774Z",
     "iopub.status.busy": "2023-07-24T13:26:22.017085Z",
     "iopub.status.idle": "2023-07-24T13:26:22.035194Z",
     "shell.execute_reply": "2023-07-24T13:26:22.034118Z"
    },
    "papermill": {
     "duration": 0.0448,
     "end_time": "2023-07-24T13:26:22.037597",
     "exception": false,
     "start_time": "2023-07-24T13:26:21.992797",
     "status": "completed"
    },
    "tags": []
   },
   "outputs": [
    {
     "data": {
      "text/plain": [
       "count     13991\n",
       "unique       10\n",
       "top           R\n",
       "freq       7734\n",
       "Name: rating, dtype: object"
      ]
     },
     "execution_count": 13,
     "metadata": {},
     "output_type": "execute_result"
    }
   ],
   "source": [
    "movies.rating.describe()"
   ]
  },
  {
   "cell_type": "code",
   "execution_count": 14,
   "id": "adff89e4",
   "metadata": {
    "execution": {
     "iopub.execute_input": "2023-07-24T13:26:22.086374Z",
     "iopub.status.busy": "2023-07-24T13:26:22.085985Z",
     "iopub.status.idle": "2023-07-24T13:26:22.098261Z",
     "shell.execute_reply": "2023-07-24T13:26:22.097482Z"
    },
    "papermill": {
     "duration": 0.038996,
     "end_time": "2023-07-24T13:26:22.100268",
     "exception": false,
     "start_time": "2023-07-24T13:26:22.061272",
     "status": "completed"
    },
    "tags": []
   },
   "outputs": [
    {
     "data": {
      "text/plain": [
       "129267"
      ]
     },
     "execution_count": 14,
     "metadata": {},
     "output_type": "execute_result"
    }
   ],
   "source": [
    "movies.rating.isna().sum()"
   ]
  },
  {
   "cell_type": "code",
   "execution_count": 15,
   "id": "7701639f",
   "metadata": {
    "execution": {
     "iopub.execute_input": "2023-07-24T13:26:22.149523Z",
     "iopub.status.busy": "2023-07-24T13:26:22.149122Z",
     "iopub.status.idle": "2023-07-24T13:26:22.160695Z",
     "shell.execute_reply": "2023-07-24T13:26:22.159619Z"
    },
    "papermill": {
     "duration": 0.039147,
     "end_time": "2023-07-24T13:26:22.162811",
     "exception": false,
     "start_time": "2023-07-24T13:26:22.123664",
     "status": "completed"
    },
    "tags": []
   },
   "outputs": [
    {
     "data": {
      "text/plain": [
       "R        7734\n",
       "PG-13    3446\n",
       "PG       1911\n",
       "TVPG      424\n",
       "TV14      397\n",
       "TVMA       57\n",
       "NC-17      19\n",
       "TVG         1\n",
       "TVY7        1\n",
       "G           1\n",
       "Name: rating, dtype: int64"
      ]
     },
     "execution_count": 15,
     "metadata": {},
     "output_type": "execute_result"
    }
   ],
   "source": [
    "movies.rating.value_counts()"
   ]
  },
  {
   "cell_type": "code",
   "execution_count": 16,
   "id": "cd95c540",
   "metadata": {
    "execution": {
     "iopub.execute_input": "2023-07-24T13:26:22.211845Z",
     "iopub.status.busy": "2023-07-24T13:26:22.211173Z",
     "iopub.status.idle": "2023-07-24T13:26:22.222867Z",
     "shell.execute_reply": "2023-07-24T13:26:22.221323Z"
    },
    "papermill": {
     "duration": 0.039118,
     "end_time": "2023-07-24T13:26:22.225330",
     "exception": false,
     "start_time": "2023-07-24T13:26:22.186212",
     "status": "completed"
    },
    "tags": []
   },
   "outputs": [
    {
     "name": "stdout",
     "output_type": "stream",
     "text": [
      "Around 90.23 % of this column is null\n"
     ]
    }
   ],
   "source": [
    "print( f'Around {(movies.rating.isna().sum() / movies.shape[0]*100) .round(2)} % of this column is null')"
   ]
  },
  {
   "cell_type": "markdown",
   "id": "685e8498",
   "metadata": {
    "papermill": {
     "duration": 0.023404,
     "end_time": "2023-07-24T13:26:22.273813",
     "exception": false,
     "start_time": "2023-07-24T13:26:22.250409",
     "status": "completed"
    },
    "tags": []
   },
   "source": [
    "## Takeaways\n",
    "\n",
    "#### 1. (MovieID) There are no null values, but there are ***some duplicate values*** (unique < count), we need to handle them to merge this dataset with training and test dataset.\n",
    "\n",
    "#### 2. (Title) Each movieID has unique title, because their statistics are same, we can ***remove this feature***, as it doesn't contribute to the rating of a movie, and movieID can be used as a proxy for this column\n",
    "\n",
    "#### 3. (AudienceScore) Since 49% data is nan, we can use ***regression imputation*** by other columns to predict its value and fill the missing data\n",
    "\n",
    "#### 4. (Rating) Eventough rating has some contribution to the sentiment of the movie, 90 % of the column is null, so we might have to ***delete this column***."
   ]
  },
  {
   "cell_type": "markdown",
   "id": "d040109a",
   "metadata": {
    "papermill": {
     "duration": 0.024405,
     "end_time": "2023-07-24T13:26:22.322420",
     "exception": false,
     "start_time": "2023-07-24T13:26:22.298015",
     "status": "completed"
    },
    "tags": []
   },
   "source": [
    "### ***5. RatingContents***"
   ]
  },
  {
   "cell_type": "code",
   "execution_count": 17,
   "id": "8db40a2a",
   "metadata": {
    "execution": {
     "iopub.execute_input": "2023-07-24T13:26:22.373318Z",
     "iopub.status.busy": "2023-07-24T13:26:22.372946Z",
     "iopub.status.idle": "2023-07-24T13:26:22.392406Z",
     "shell.execute_reply": "2023-07-24T13:26:22.391695Z"
    },
    "papermill": {
     "duration": 0.047077,
     "end_time": "2023-07-24T13:26:22.394435",
     "exception": false,
     "start_time": "2023-07-24T13:26:22.347358",
     "status": "completed"
    },
    "tags": []
   },
   "outputs": [
    {
     "data": {
      "text/plain": [
       "count            13991\n",
       "unique            8353\n",
       "top       ['Language']\n",
       "freq               365\n",
       "Name: ratingContents, dtype: object"
      ]
     },
     "execution_count": 17,
     "metadata": {},
     "output_type": "execute_result"
    }
   ],
   "source": [
    "movies.ratingContents.describe()"
   ]
  },
  {
   "cell_type": "code",
   "execution_count": 18,
   "id": "8e7fbb24",
   "metadata": {
    "execution": {
     "iopub.execute_input": "2023-07-24T13:26:22.444315Z",
     "iopub.status.busy": "2023-07-24T13:26:22.443579Z",
     "iopub.status.idle": "2023-07-24T13:26:22.456158Z",
     "shell.execute_reply": "2023-07-24T13:26:22.455306Z"
    },
    "papermill": {
     "duration": 0.040254,
     "end_time": "2023-07-24T13:26:22.458199",
     "exception": false,
     "start_time": "2023-07-24T13:26:22.417945",
     "status": "completed"
    },
    "tags": []
   },
   "outputs": [
    {
     "data": {
      "text/plain": [
       "0.90233704225942"
      ]
     },
     "execution_count": 18,
     "metadata": {},
     "output_type": "execute_result"
    }
   ],
   "source": [
    "movies.ratingContents.isna().sum()/ movies.shape[0]"
   ]
  },
  {
   "cell_type": "markdown",
   "id": "46dafe48",
   "metadata": {
    "papermill": {
     "duration": 0.023306,
     "end_time": "2023-07-24T13:26:22.505491",
     "exception": false,
     "start_time": "2023-07-24T13:26:22.482185",
     "status": "completed"
    },
    "tags": []
   },
   "source": [
    "## Takeaways\n",
    "\n",
    "#### 1. (MovieID) There are no null values, but there are ***some duplicate values*** (unique < count), we need to handle them to merge this dataset with training and test dataset.\n",
    "\n",
    "#### 2. (Title) Each movieID has unique title, because their statistics are same, we can ***remove this feature***, as it doesn't contribute to the rating of a movie, and movieID can be used as a proxy for this column.\n",
    "\n",
    "#### 3. (AudienceScore) Since 49% data is nan, we can use ***regression imputation*** by other columns to predict its value and fill the missing data.\n",
    "\n",
    "#### 4. (Rating) Eventough rating has some contribution to the sentiment of the movie, 90 % of the column is null, so we might have to ***delete this column***.\n",
    "\n",
    "#### 5. (RatingContents) Descibes the contents of the rating feature, 90* are null vales, so we can ***remove it***."
   ]
  },
  {
   "cell_type": "markdown",
   "id": "9587ab36",
   "metadata": {
    "papermill": {
     "duration": 0.023128,
     "end_time": "2023-07-24T13:26:22.552012",
     "exception": false,
     "start_time": "2023-07-24T13:26:22.528884",
     "status": "completed"
    },
    "tags": []
   },
   "source": [
    "### ***6. releaseDateTheaters***"
   ]
  },
  {
   "cell_type": "code",
   "execution_count": 19,
   "id": "2d658268",
   "metadata": {
    "execution": {
     "iopub.execute_input": "2023-07-24T13:26:22.600844Z",
     "iopub.status.busy": "2023-07-24T13:26:22.600454Z",
     "iopub.status.idle": "2023-07-24T13:26:22.624025Z",
     "shell.execute_reply": "2023-07-24T13:26:22.622992Z"
    },
    "papermill": {
     "duration": 0.050684,
     "end_time": "2023-07-24T13:26:22.626393",
     "exception": false,
     "start_time": "2023-07-24T13:26:22.575709",
     "status": "completed"
    },
    "tags": []
   },
   "outputs": [
    {
     "data": {
      "text/plain": [
       "count          30773\n",
       "unique         12062\n",
       "top       2018-09-14\n",
       "freq              37\n",
       "Name: releaseDateTheaters, dtype: object"
      ]
     },
     "execution_count": 19,
     "metadata": {},
     "output_type": "execute_result"
    }
   ],
   "source": [
    "movies.releaseDateTheaters.describe()"
   ]
  },
  {
   "cell_type": "code",
   "execution_count": 20,
   "id": "f841448e",
   "metadata": {
    "execution": {
     "iopub.execute_input": "2023-07-24T13:26:22.676490Z",
     "iopub.status.busy": "2023-07-24T13:26:22.676073Z",
     "iopub.status.idle": "2023-07-24T13:26:22.689219Z",
     "shell.execute_reply": "2023-07-24T13:26:22.688270Z"
    },
    "papermill": {
     "duration": 0.040767,
     "end_time": "2023-07-24T13:26:22.691251",
     "exception": false,
     "start_time": "2023-07-24T13:26:22.650484",
     "status": "completed"
    },
    "tags": []
   },
   "outputs": [
    {
     "data": {
      "text/plain": [
       "78.52"
      ]
     },
     "execution_count": 20,
     "metadata": {},
     "output_type": "execute_result"
    }
   ],
   "source": [
    "(movies.releaseDateTheaters.isna().sum() / movies.shape[0] * 100).round(2)"
   ]
  },
  {
   "cell_type": "markdown",
   "id": "e4689561",
   "metadata": {
    "papermill": {
     "duration": 0.024518,
     "end_time": "2023-07-24T13:26:22.739676",
     "exception": false,
     "start_time": "2023-07-24T13:26:22.715158",
     "status": "completed"
    },
    "tags": []
   },
   "source": [
    "## Takeaways\n",
    "\n",
    "#### 1. (MovieID) There are no null values, but there are ***some duplicate values*** (unique < count), we need to handle them to merge this dataset with training and test dataset.\n",
    "\n",
    "#### 2. (Title) Each movieID has unique title, because their statistics are same, we can ***remove this feature***, as it doesn't contribute to the rating of a movie, and movieID can be used as a proxy for this column.\n",
    "\n",
    "#### 3. (AudienceScore) Since 49% data is nan, we can use ***regression imputation*** by other columns to predict its value and fill the missing data.\n",
    "\n",
    "#### 4. (Rating) Eventough rating has some contribution to the sentiment of the movie, 90 % of the column is null, so we might have to ***delete this column***.\n",
    "\n",
    "#### 5. (RatingContents) Descibes the contents of the rating feature, 90* are null vales, so we can ***remove it***.\n",
    "\n",
    "#### 6. (releaseDateTheatres) 79% are null and theatre doesn't matter to movie sentiment, so we can ***drop this column***."
   ]
  },
  {
   "cell_type": "markdown",
   "id": "60f11c3b",
   "metadata": {
    "papermill": {
     "duration": 0.024214,
     "end_time": "2023-07-24T13:26:22.788323",
     "exception": false,
     "start_time": "2023-07-24T13:26:22.764109",
     "status": "completed"
    },
    "tags": []
   },
   "source": [
    "### ***7. releaseDateStreaming***"
   ]
  },
  {
   "cell_type": "code",
   "execution_count": 21,
   "id": "81b9da64",
   "metadata": {
    "execution": {
     "iopub.execute_input": "2023-07-24T13:26:22.838415Z",
     "iopub.status.busy": "2023-07-24T13:26:22.837326Z",
     "iopub.status.idle": "2023-07-24T13:26:22.864600Z",
     "shell.execute_reply": "2023-07-24T13:26:22.863448Z"
    },
    "papermill": {
     "duration": 0.054437,
     "end_time": "2023-07-24T13:26:22.866844",
     "exception": false,
     "start_time": "2023-07-24T13:26:22.812407",
     "status": "completed"
    },
    "tags": []
   },
   "outputs": [
    {
     "data": {
      "text/plain": [
       "count          79420\n",
       "unique          4726\n",
       "top       2017-05-22\n",
       "freq            1232\n",
       "Name: releaseDateStreaming, dtype: object"
      ]
     },
     "execution_count": 21,
     "metadata": {},
     "output_type": "execute_result"
    }
   ],
   "source": [
    "movies.releaseDateStreaming.describe()"
   ]
  },
  {
   "cell_type": "code",
   "execution_count": 22,
   "id": "e2b4d548",
   "metadata": {
    "execution": {
     "iopub.execute_input": "2023-07-24T13:26:22.917222Z",
     "iopub.status.busy": "2023-07-24T13:26:22.916813Z",
     "iopub.status.idle": "2023-07-24T13:26:22.931235Z",
     "shell.execute_reply": "2023-07-24T13:26:22.930202Z"
    },
    "papermill": {
     "duration": 0.042411,
     "end_time": "2023-07-24T13:26:22.933413",
     "exception": false,
     "start_time": "2023-07-24T13:26:22.891002",
     "status": "completed"
    },
    "tags": []
   },
   "outputs": [
    {
     "data": {
      "text/plain": [
       "0.4456156026190509"
      ]
     },
     "execution_count": 22,
     "metadata": {},
     "output_type": "execute_result"
    }
   ],
   "source": [
    "movies.releaseDateStreaming.isna().sum() / movies.shape[0]"
   ]
  },
  {
   "cell_type": "code",
   "execution_count": 23,
   "id": "36122e1c",
   "metadata": {
    "execution": {
     "iopub.execute_input": "2023-07-24T13:26:22.984671Z",
     "iopub.status.busy": "2023-07-24T13:26:22.983940Z",
     "iopub.status.idle": "2023-07-24T13:26:22.988163Z",
     "shell.execute_reply": "2023-07-24T13:26:22.987495Z"
    },
    "papermill": {
     "duration": 0.032426,
     "end_time": "2023-07-24T13:26:22.990109",
     "exception": false,
     "start_time": "2023-07-24T13:26:22.957683",
     "status": "completed"
    },
    "tags": []
   },
   "outputs": [],
   "source": [
    "#Date/ Period of release of a movie can determine a movie's sentiment, as people may like it in \n",
    "#some period and hate in different period"
   ]
  },
  {
   "cell_type": "markdown",
   "id": "c2bfcc03",
   "metadata": {
    "papermill": {
     "duration": 0.023991,
     "end_time": "2023-07-24T13:26:23.038648",
     "exception": false,
     "start_time": "2023-07-24T13:26:23.014657",
     "status": "completed"
    },
    "tags": []
   },
   "source": [
    "## Takeaways\n",
    "\n",
    "#### 1. (MovieID) There are no null values, but there are ***some duplicate values*** (unique < count), we need to handle them to merge this dataset with training and test dataset.\n",
    "\n",
    "#### 2. (Title) Each movieID has unique title, because their statistics are same, we can ***remove this feature***, as it doesn't contribute to the rating of a movie, and movieID can be used as a proxy for this column.\n",
    "\n",
    "#### 3. (AudienceScore) Since 49% data is nan, we can use ***regression imputation*** by other columns to predict its value and fill the missing data.\n",
    "\n",
    "#### 4. (Rating) Eventough rating has some contribution to the sentiment of the movie, 90 % of the column is null, so we might have to ***delete this column***.\n",
    "\n",
    "#### 5. (RatingContents) Descibes the contents of the rating feature, 90* are null vales, so we can ***remove it***.\n",
    "\n",
    "#### 6. (releaseDateTheatres) 79% are null and theatre doesn't matter to movie sentiment, so we can ***drop this column***.\n",
    "\n",
    "#### 7. (releaseDateStreaming) ***Impute missing dates*** and ***convert them to integer***."
   ]
  },
  {
   "cell_type": "markdown",
   "id": "6ad966bd",
   "metadata": {
    "papermill": {
     "duration": 0.023688,
     "end_time": "2023-07-24T13:26:23.086370",
     "exception": false,
     "start_time": "2023-07-24T13:26:23.062682",
     "status": "completed"
    },
    "tags": []
   },
   "source": [
    "### ***8. runtimeMinutes***"
   ]
  },
  {
   "cell_type": "code",
   "execution_count": 24,
   "id": "f2dccebb",
   "metadata": {
    "execution": {
     "iopub.execute_input": "2023-07-24T13:26:23.137985Z",
     "iopub.status.busy": "2023-07-24T13:26:23.137242Z",
     "iopub.status.idle": "2023-07-24T13:26:23.155945Z",
     "shell.execute_reply": "2023-07-24T13:26:23.154826Z"
    },
    "papermill": {
     "duration": 0.047625,
     "end_time": "2023-07-24T13:26:23.158288",
     "exception": false,
     "start_time": "2023-07-24T13:26:23.110663",
     "status": "completed"
    },
    "tags": []
   },
   "outputs": [
    {
     "data": {
      "text/plain": [
       "count    129431.000000\n",
       "mean         93.708578\n",
       "std          28.129175\n",
       "min           1.000000\n",
       "25%          84.000000\n",
       "50%          92.000000\n",
       "75%         103.000000\n",
       "max        2700.000000\n",
       "Name: runtimeMinutes, dtype: float64"
      ]
     },
     "execution_count": 24,
     "metadata": {},
     "output_type": "execute_result"
    }
   ],
   "source": [
    "movies.runtimeMinutes.describe()"
   ]
  },
  {
   "cell_type": "code",
   "execution_count": 25,
   "id": "e32d9ef5",
   "metadata": {
    "execution": {
     "iopub.execute_input": "2023-07-24T13:26:23.209413Z",
     "iopub.status.busy": "2023-07-24T13:26:23.208295Z",
     "iopub.status.idle": "2023-07-24T13:26:23.213866Z",
     "shell.execute_reply": "2023-07-24T13:26:23.212728Z"
    },
    "papermill": {
     "duration": 0.033308,
     "end_time": "2023-07-24T13:26:23.216121",
     "exception": false,
     "start_time": "2023-07-24T13:26:23.182813",
     "status": "completed"
    },
    "tags": []
   },
   "outputs": [],
   "source": [
    "#The runTimeMinutes ranges from 1 min to 2700 mins, with a mean of 93. Need to handle outliers"
   ]
  },
  {
   "cell_type": "code",
   "execution_count": 26,
   "id": "db868b82",
   "metadata": {
    "execution": {
     "iopub.execute_input": "2023-07-24T13:26:23.266603Z",
     "iopub.status.busy": "2023-07-24T13:26:23.266207Z",
     "iopub.status.idle": "2023-07-24T13:26:23.272604Z",
     "shell.execute_reply": "2023-07-24T13:26:23.271810Z"
    },
    "papermill": {
     "duration": 0.034065,
     "end_time": "2023-07-24T13:26:23.274564",
     "exception": false,
     "start_time": "2023-07-24T13:26:23.240499",
     "status": "completed"
    },
    "tags": []
   },
   "outputs": [
    {
     "data": {
      "text/plain": [
       "0.09651817001493808"
      ]
     },
     "execution_count": 26,
     "metadata": {},
     "output_type": "execute_result"
    }
   ],
   "source": [
    "movies.runtimeMinutes.isna().sum() / movies.shape[0]"
   ]
  },
  {
   "cell_type": "markdown",
   "id": "448ef0a1",
   "metadata": {
    "papermill": {
     "duration": 0.024084,
     "end_time": "2023-07-24T13:26:23.323657",
     "exception": false,
     "start_time": "2023-07-24T13:26:23.299573",
     "status": "completed"
    },
    "tags": []
   },
   "source": [
    "## Takeaways\n",
    "\n",
    "#### 1. (MovieID) There are no null values, but there are ***some duplicate values*** (unique < count), we need to handle them to merge this dataset with training and test dataset.\n",
    "\n",
    "#### 2. (Title) Each movieID has unique title, because their statistics are same, we can ***remove this feature***, as it doesn't contribute to the rating of a movie, and movieID can be used as a proxy for this column.\n",
    "\n",
    "#### 3. (AudienceScore) Since 49% data is nan, we can use ***regression imputation*** by other columns to predict its value and fill the missing data.\n",
    "\n",
    "#### 4. (Rating) Eventough rating has some contribution to the sentiment of the movie, 90 % of the column is null, so we might have to ***delete this column***.\n",
    "\n",
    "#### 5. (RatingContents) Descibes the contents of the rating feature, 90* are null vales, so we can ***remove it***.\n",
    "\n",
    "#### 6. (releaseDateTheatres) 79% are null and theatre doesn't matter to movie sentiment, so we can ***drop this column***.\n",
    "\n",
    "#### 7. (releaseDateStreaming) ***Impute missing dates*** and ***convert them to integer***.\n",
    "\n",
    "#### 8. (runtimeMinutes) We need to ***handle missing values*** and also ***handle outliers***."
   ]
  },
  {
   "cell_type": "markdown",
   "id": "d3847f4a",
   "metadata": {
    "papermill": {
     "duration": 0.023991,
     "end_time": "2023-07-24T13:26:23.371955",
     "exception": false,
     "start_time": "2023-07-24T13:26:23.347964",
     "status": "completed"
    },
    "tags": []
   },
   "source": [
    "### ***9. Genre***"
   ]
  },
  {
   "cell_type": "code",
   "execution_count": 27,
   "id": "41323f5a",
   "metadata": {
    "execution": {
     "iopub.execute_input": "2023-07-24T13:26:23.424009Z",
     "iopub.status.busy": "2023-07-24T13:26:23.423607Z",
     "iopub.status.idle": "2023-07-24T13:26:23.454194Z",
     "shell.execute_reply": "2023-07-24T13:26:23.453004Z"
    },
    "papermill": {
     "duration": 0.059176,
     "end_time": "2023-07-24T13:26:23.456532",
     "exception": false,
     "start_time": "2023-07-24T13:26:23.397356",
     "status": "completed"
    },
    "tags": []
   },
   "outputs": [
    {
     "data": {
      "text/plain": [
       "count     132175\n",
       "unique      2912\n",
       "top        Drama\n",
       "freq       27860\n",
       "Name: genre, dtype: object"
      ]
     },
     "execution_count": 27,
     "metadata": {},
     "output_type": "execute_result"
    }
   ],
   "source": [
    "movies.genre.describe()"
   ]
  },
  {
   "cell_type": "code",
   "execution_count": 28,
   "id": "a46aba05",
   "metadata": {
    "execution": {
     "iopub.execute_input": "2023-07-24T13:26:23.508003Z",
     "iopub.status.busy": "2023-07-24T13:26:23.507642Z",
     "iopub.status.idle": "2023-07-24T13:26:23.529165Z",
     "shell.execute_reply": "2023-07-24T13:26:23.528085Z"
    },
    "papermill": {
     "duration": 0.050342,
     "end_time": "2023-07-24T13:26:23.531416",
     "exception": false,
     "start_time": "2023-07-24T13:26:23.481074",
     "status": "completed"
    },
    "tags": []
   },
   "outputs": [
    {
     "data": {
      "text/plain": [
       "Drama                                          27860\n",
       "Documentary                                    15162\n",
       "Comedy                                         11514\n",
       "Mystery & thriller                              7015\n",
       "Comedy, Drama                                   5479\n",
       "                                               ...  \n",
       "Fantasy, Drama, Musical                            1\n",
       "Holiday, Drama, Musical                            1\n",
       "Drama, War, Adventure, Action                      1\n",
       "Action, Adventure, Comedy, Drama, Animation        1\n",
       "Western, Comedy, Animation                         1\n",
       "Name: genre, Length: 2912, dtype: int64"
      ]
     },
     "execution_count": 28,
     "metadata": {},
     "output_type": "execute_result"
    }
   ],
   "source": [
    "movies.genre.value_counts()"
   ]
  },
  {
   "cell_type": "code",
   "execution_count": 29,
   "id": "2164acc8",
   "metadata": {
    "execution": {
     "iopub.execute_input": "2023-07-24T13:26:23.582237Z",
     "iopub.status.busy": "2023-07-24T13:26:23.581871Z",
     "iopub.status.idle": "2023-07-24T13:26:23.596772Z",
     "shell.execute_reply": "2023-07-24T13:26:23.595712Z"
    },
    "papermill": {
     "duration": 0.042727,
     "end_time": "2023-07-24T13:26:23.598783",
     "exception": false,
     "start_time": "2023-07-24T13:26:23.556056",
     "status": "completed"
    },
    "tags": []
   },
   "outputs": [
    {
     "data": {
      "text/plain": [
       "0.0773639168493208"
      ]
     },
     "execution_count": 29,
     "metadata": {},
     "output_type": "execute_result"
    }
   ],
   "source": [
    "movies.genre.isna().sum() / movies.shape[0]"
   ]
  },
  {
   "cell_type": "markdown",
   "id": "aea7f582",
   "metadata": {
    "papermill": {
     "duration": 0.025901,
     "end_time": "2023-07-24T13:26:23.650014",
     "exception": false,
     "start_time": "2023-07-24T13:26:23.624113",
     "status": "completed"
    },
    "tags": []
   },
   "source": [
    "## Takeaways\n",
    "\n",
    "#### 1. (MovieID) There are no null values, but there are ***some duplicate values*** (unique < count), we need to handle them to merge this dataset with training and test dataset.\n",
    "\n",
    "#### 2. (Title) Each movieID has unique title, because their statistics are same, we can ***remove this feature***, as it doesn't contribute to the rating of a movie, and movieID can be used as a proxy for this column.\n",
    "\n",
    "#### 3. (AudienceScore) Since 49% data is nan, we can use ***regression imputation*** by other columns to predict its value and fill the missing data.\n",
    "\n",
    "#### 4. (Rating) Eventough rating has some contribution to the sentiment of the movie, 90 % of the column is null, so we might have to ***delete this column***.\n",
    "\n",
    "#### 5. (RatingContents) Descibes the contents of the rating feature, 90* are null vales, so we can ***remove it***.\n",
    "\n",
    "#### 6. (releaseDateTheatres) 79% are null and theatre doesn't matter to movie sentiment, so we can ***drop this column***.\n",
    "\n",
    "#### 7. (releaseDateStreaming) ***Impute missing dates*** and ***convert them to integer***.\n",
    "\n",
    "#### 8. (runtimeMinutes) We need to ***handle missing values*** and also ***handle outliers***.\n",
    "\n",
    "#### 9. (Genre) First, we need to ***handle Missing Values*** and then ***use some encoder*** to change categorical feature into numbers."
   ]
  },
  {
   "cell_type": "markdown",
   "id": "9f1a681d",
   "metadata": {
    "papermill": {
     "duration": 0.024087,
     "end_time": "2023-07-24T13:26:23.699002",
     "exception": false,
     "start_time": "2023-07-24T13:26:23.674915",
     "status": "completed"
    },
    "tags": []
   },
   "source": [
    "### ***10. originalLanguage***"
   ]
  },
  {
   "cell_type": "code",
   "execution_count": 30,
   "id": "10e8acd2",
   "metadata": {
    "execution": {
     "iopub.execute_input": "2023-07-24T13:26:23.751332Z",
     "iopub.status.busy": "2023-07-24T13:26:23.750910Z",
     "iopub.status.idle": "2023-07-24T13:26:23.777882Z",
     "shell.execute_reply": "2023-07-24T13:26:23.776754Z"
    },
    "papermill": {
     "duration": 0.056326,
     "end_time": "2023-07-24T13:26:23.780045",
     "exception": false,
     "start_time": "2023-07-24T13:26:23.723719",
     "status": "completed"
    },
    "tags": []
   },
   "outputs": [
    {
     "data": {
      "text/plain": [
       "count      129400\n",
       "unique        112\n",
       "top       English\n",
       "freq        85034\n",
       "Name: originalLanguage, dtype: object"
      ]
     },
     "execution_count": 30,
     "metadata": {},
     "output_type": "execute_result"
    }
   ],
   "source": [
    "movies.originalLanguage.describe()"
   ]
  },
  {
   "cell_type": "code",
   "execution_count": 31,
   "id": "320451f2",
   "metadata": {
    "execution": {
     "iopub.execute_input": "2023-07-24T13:26:23.832580Z",
     "iopub.status.busy": "2023-07-24T13:26:23.832156Z",
     "iopub.status.idle": "2023-07-24T13:26:23.847309Z",
     "shell.execute_reply": "2023-07-24T13:26:23.846514Z"
    },
    "papermill": {
     "duration": 0.044391,
     "end_time": "2023-07-24T13:26:23.849530",
     "exception": false,
     "start_time": "2023-07-24T13:26:23.805139",
     "status": "completed"
    },
    "tags": []
   },
   "outputs": [
    {
     "data": {
      "text/plain": [
       "13858"
      ]
     },
     "execution_count": 31,
     "metadata": {},
     "output_type": "execute_result"
    }
   ],
   "source": [
    "movies.originalLanguage.isna().sum()"
   ]
  },
  {
   "cell_type": "code",
   "execution_count": 32,
   "id": "88f7d97d",
   "metadata": {
    "execution": {
     "iopub.execute_input": "2023-07-24T13:26:23.903988Z",
     "iopub.status.busy": "2023-07-24T13:26:23.902895Z",
     "iopub.status.idle": "2023-07-24T13:26:23.945981Z",
     "shell.execute_reply": "2023-07-24T13:26:23.944882Z"
    },
    "papermill": {
     "duration": 0.072192,
     "end_time": "2023-07-24T13:26:23.948466",
     "exception": false,
     "start_time": "2023-07-24T13:26:23.876274",
     "status": "completed"
    },
    "tags": []
   },
   "outputs": [],
   "source": [
    "duplicates_mask = movies['movieid'].duplicated(keep=False)\n",
    "duplicate_movies = movies[duplicates_mask]"
   ]
  },
  {
   "cell_type": "markdown",
   "id": "9af68f9b",
   "metadata": {
    "papermill": {
     "duration": 0.02459,
     "end_time": "2023-07-24T13:26:23.998900",
     "exception": false,
     "start_time": "2023-07-24T13:26:23.974310",
     "status": "completed"
    },
    "tags": []
   },
   "source": [
    "## Takeaways\n",
    "\n",
    "#### 1. (MovieID) There are no null values, but there are ***some duplicate values*** (unique < count), we need to handle them to merge this dataset with training and test dataset.\n",
    "\n",
    "#### 2. (Title) Each movieID has unique title, because their statistics are same, we can ***remove this feature***, as it doesn't contribute to the rating of a movie, and movieID can be used as a proxy for this column.\n",
    "\n",
    "#### 3. (AudienceScore) Since 49% data is nan, we can use ***regression imputation*** by other columns to predict its value and fill the missing data.\n",
    "\n",
    "#### 4. (Rating) Eventough rating has some contribution to the sentiment of the movie, 90 % of the column is null, so we might have to ***delete this column***.\n",
    "\n",
    "#### 5. (RatingContents) Descibes the contents of the rating feature, 90* are null vales, so we can ***remove it***.\n",
    "\n",
    "#### 6. (releaseDateTheatres) 79% are null and theatre doesn't matter to movie sentiment, so we can ***drop this column***.\n",
    "\n",
    "#### 7. (releaseDateStreaming) ***Impute missing dates*** and ***convert them to integer***.\n",
    "\n",
    "#### 8. (runtimeMinutes) We need to ***handle missing values*** and also ***handle outliers***.\n",
    "\n",
    "#### 9. (Genre) First, we need to ***handle Missing Values*** and then ***use some encoder*** to change categorical feature into numbers.\n",
    "\n",
    "#### 10. (originalLanguage), handle missing values and encode them."
   ]
  },
  {
   "cell_type": "code",
   "execution_count": 33,
   "id": "df65b744",
   "metadata": {
    "execution": {
     "iopub.execute_input": "2023-07-24T13:26:24.051378Z",
     "iopub.status.busy": "2023-07-24T13:26:24.050877Z",
     "iopub.status.idle": "2023-07-24T13:26:24.057974Z",
     "shell.execute_reply": "2023-07-24T13:26:24.056937Z"
    },
    "papermill": {
     "duration": 0.035311,
     "end_time": "2023-07-24T13:26:24.060138",
     "exception": false,
     "start_time": "2023-07-24T13:26:24.024827",
     "status": "completed"
    },
    "tags": []
   },
   "outputs": [
    {
     "data": {
      "text/plain": [
       "Index(['movieid', 'title', 'audienceScore', 'rating', 'ratingContents',\n",
       "       'releaseDateTheaters', 'releaseDateStreaming', 'runtimeMinutes',\n",
       "       'genre', 'originalLanguage', 'director', 'boxOffice', 'distributor',\n",
       "       'soundType'],\n",
       "      dtype='object')"
      ]
     },
     "execution_count": 33,
     "metadata": {},
     "output_type": "execute_result"
    }
   ],
   "source": [
    "movies.columns"
   ]
  },
  {
   "cell_type": "markdown",
   "id": "d9bd20a0",
   "metadata": {
    "papermill": {
     "duration": 0.026196,
     "end_time": "2023-07-24T13:26:24.111417",
     "exception": false,
     "start_time": "2023-07-24T13:26:24.085221",
     "status": "completed"
    },
    "tags": []
   },
   "source": [
    "## Takeaways\n",
    "\n",
    "#### 1. (MovieID) There are no null values, but there are ***some duplicate values*** (unique < count), we need to handle them to merge this dataset with training and test dataset.\n",
    "\n",
    "#### 2. (Title) Each movieID has unique title, because their statistics are same, we can ***remove this feature***, as it doesn't contribute to the rating of a movie, and movieID can be used as a proxy for this column.\n",
    "\n",
    "#### 3. (AudienceScore) Since 49% data is nan, we can use ***regression imputation*** by other columns to predict its value and fill the missing data.\n",
    "\n",
    "#### 4. (Rating) Eventough rating has some contribution to the sentiment of the movie, 90 % of the column is null, so we might have to ***delete this column***.\n",
    "\n",
    "#### 5. (RatingContents) Descibes the contents of the rating feature, 90* are null vales, so we can ***remove it***.\n",
    "\n",
    "#### 6. (releaseDateTheatres) 79% are null and theatre doesn't matter to movie sentiment, so we can ***drop this column***.\n",
    "\n",
    "#### 7. (releaseDateStreaming) ***Impute missing dates*** and ***convert them to integer***.\n",
    "\n",
    "#### 8. (runtimeMinutes) We need to ***handle missing values*** and also ***handle outliers***.\n",
    "\n",
    "#### 9. (Genre) First, we need to ***handle Missing Values*** and then ***use some encoder*** to change categorical feature into numbers.\n",
    "\n",
    "#### 10. (originalLanguage), handle missing values and encode them.\n",
    "\n",
    "#### 11. Remove 'director', 'boxOffice', 'distributor','soundType' as they are not important"
   ]
  },
  {
   "cell_type": "code",
   "execution_count": 34,
   "id": "d16d315f",
   "metadata": {
    "execution": {
     "iopub.execute_input": "2023-07-24T13:26:24.163619Z",
     "iopub.status.busy": "2023-07-24T13:26:24.163228Z",
     "iopub.status.idle": "2023-07-24T13:26:24.209679Z",
     "shell.execute_reply": "2023-07-24T13:26:24.208730Z"
    },
    "papermill": {
     "duration": 0.07554,
     "end_time": "2023-07-24T13:26:24.212125",
     "exception": false,
     "start_time": "2023-07-24T13:26:24.136585",
     "status": "completed"
    },
    "tags": []
   },
   "outputs": [],
   "source": [
    "# takeaway 1\n",
    "movies.drop_duplicates(subset='movieid', inplace=True)"
   ]
  },
  {
   "cell_type": "code",
   "execution_count": 35,
   "id": "a17ed54a",
   "metadata": {
    "execution": {
     "iopub.execute_input": "2023-07-24T13:26:24.263724Z",
     "iopub.status.busy": "2023-07-24T13:26:24.263298Z",
     "iopub.status.idle": "2023-07-24T13:26:24.296064Z",
     "shell.execute_reply": "2023-07-24T13:26:24.295185Z"
    },
    "papermill": {
     "duration": 0.061577,
     "end_time": "2023-07-24T13:26:24.298679",
     "exception": false,
     "start_time": "2023-07-24T13:26:24.237102",
     "status": "completed"
    },
    "tags": []
   },
   "outputs": [],
   "source": [
    "# takeaway 2\n",
    "movies.drop('title', axis=1, inplace=True)"
   ]
  },
  {
   "cell_type": "code",
   "execution_count": 36,
   "id": "b5b6278d",
   "metadata": {
    "execution": {
     "iopub.execute_input": "2023-07-24T13:26:24.352627Z",
     "iopub.status.busy": "2023-07-24T13:26:24.351385Z",
     "iopub.status.idle": "2023-07-24T13:26:24.356930Z",
     "shell.execute_reply": "2023-07-24T13:26:24.355742Z"
    },
    "papermill": {
     "duration": 0.034965,
     "end_time": "2023-07-24T13:26:24.359229",
     "exception": false,
     "start_time": "2023-07-24T13:26:24.324264",
     "status": "completed"
    },
    "tags": []
   },
   "outputs": [],
   "source": [
    "# takeaway 3, will deal later\n"
   ]
  },
  {
   "cell_type": "code",
   "execution_count": 37,
   "id": "93b5252c",
   "metadata": {
    "execution": {
     "iopub.execute_input": "2023-07-24T13:26:24.412681Z",
     "iopub.status.busy": "2023-07-24T13:26:24.412263Z",
     "iopub.status.idle": "2023-07-24T13:26:24.436816Z",
     "shell.execute_reply": "2023-07-24T13:26:24.435712Z"
    },
    "papermill": {
     "duration": 0.054892,
     "end_time": "2023-07-24T13:26:24.439370",
     "exception": false,
     "start_time": "2023-07-24T13:26:24.384478",
     "status": "completed"
    },
    "tags": []
   },
   "outputs": [],
   "source": [
    "# takeaway 4\n",
    "movies.drop('rating', axis=1, inplace=True)"
   ]
  },
  {
   "cell_type": "code",
   "execution_count": 38,
   "id": "18139ac6",
   "metadata": {
    "execution": {
     "iopub.execute_input": "2023-07-24T13:26:24.491820Z",
     "iopub.status.busy": "2023-07-24T13:26:24.491384Z",
     "iopub.status.idle": "2023-07-24T13:26:24.514520Z",
     "shell.execute_reply": "2023-07-24T13:26:24.513175Z"
    },
    "papermill": {
     "duration": 0.052401,
     "end_time": "2023-07-24T13:26:24.517050",
     "exception": false,
     "start_time": "2023-07-24T13:26:24.464649",
     "status": "completed"
    },
    "tags": []
   },
   "outputs": [],
   "source": [
    "# takeaway 5\n",
    "movies.drop('ratingContents', axis=1, inplace=True)"
   ]
  },
  {
   "cell_type": "code",
   "execution_count": 39,
   "id": "311c4dcd",
   "metadata": {
    "execution": {
     "iopub.execute_input": "2023-07-24T13:26:24.571491Z",
     "iopub.status.busy": "2023-07-24T13:26:24.570992Z",
     "iopub.status.idle": "2023-07-24T13:26:24.591398Z",
     "shell.execute_reply": "2023-07-24T13:26:24.590242Z"
    },
    "papermill": {
     "duration": 0.051631,
     "end_time": "2023-07-24T13:26:24.593876",
     "exception": false,
     "start_time": "2023-07-24T13:26:24.542245",
     "status": "completed"
    },
    "tags": []
   },
   "outputs": [],
   "source": [
    "# takeaway 6\n",
    "movies.drop('releaseDateTheaters', axis=1, inplace=True)"
   ]
  },
  {
   "cell_type": "code",
   "execution_count": 40,
   "id": "cb2c6e89",
   "metadata": {
    "execution": {
     "iopub.execute_input": "2023-07-24T13:26:24.647737Z",
     "iopub.status.busy": "2023-07-24T13:26:24.646634Z",
     "iopub.status.idle": "2023-07-24T13:26:25.578888Z",
     "shell.execute_reply": "2023-07-24T13:26:25.578088Z"
    },
    "papermill": {
     "duration": 0.962143,
     "end_time": "2023-07-24T13:26:25.581218",
     "exception": false,
     "start_time": "2023-07-24T13:26:24.619075",
     "status": "completed"
    },
    "tags": []
   },
   "outputs": [],
   "source": [
    "# takeaway 7\n",
    "movies['releaseDateStreaming'] = pd.to_datetime(movies['releaseDateStreaming'])\n",
    "\n",
    "mean_date = movies['releaseDateStreaming'].mean()  # Calculate the mean date\n",
    "min_date = movies['releaseDateStreaming'].min()\n",
    "\n",
    "movies['releaseDateStreaming'].fillna(mean_date, inplace=True)  # Fill missing dates with mean date\n",
    "movies['releaseDateStreaming'] = movies['releaseDateStreaming'].apply(lambda x: (x - min_date).days if pd.notnull(x) else None)\n"
   ]
  },
  {
   "cell_type": "code",
   "execution_count": 41,
   "id": "3e02dc6a",
   "metadata": {
    "execution": {
     "iopub.execute_input": "2023-07-24T13:26:25.633604Z",
     "iopub.status.busy": "2023-07-24T13:26:25.633171Z",
     "iopub.status.idle": "2023-07-24T13:26:25.692035Z",
     "shell.execute_reply": "2023-07-24T13:26:25.690778Z"
    },
    "papermill": {
     "duration": 0.088265,
     "end_time": "2023-07-24T13:26:25.694834",
     "exception": false,
     "start_time": "2023-07-24T13:26:25.606569",
     "status": "completed"
    },
    "tags": []
   },
   "outputs": [],
   "source": [
    "# takeaway 8\n",
    "mean_runtime = movies['runtimeMinutes'].mean()\n",
    "Q1 = movies['runtimeMinutes'].quantile(0.25)\n",
    "Q3 = movies['runtimeMinutes'].quantile(0.75)\n",
    "IQR = Q3 - Q1\n",
    "lower_bound = Q1 - 1.5 * IQR\n",
    "upper_bound = Q3 + 1.5 * IQR\n",
    "movies['runtimeMinutes'] = movies['runtimeMinutes'].apply(lambda x: lower_bound if x < lower_bound else upper_bound if x > upper_bound else x)\n",
    "\n",
    "\n",
    "movies['runtimeMinutes'].fillna(mean_runtime, inplace=True)"
   ]
  },
  {
   "cell_type": "code",
   "execution_count": 42,
   "id": "a7ed5edf",
   "metadata": {
    "execution": {
     "iopub.execute_input": "2023-07-24T13:26:25.746758Z",
     "iopub.status.busy": "2023-07-24T13:26:25.746308Z",
     "iopub.status.idle": "2023-07-24T13:26:27.012102Z",
     "shell.execute_reply": "2023-07-24T13:26:27.010890Z"
    },
    "papermill": {
     "duration": 1.294656,
     "end_time": "2023-07-24T13:26:27.014750",
     "exception": false,
     "start_time": "2023-07-24T13:26:25.720094",
     "status": "completed"
    },
    "tags": []
   },
   "outputs": [],
   "source": [
    "# takeaway 9\n",
    "from  sklearn.preprocessing import LabelEncoder\n",
    "label_encoder = LabelEncoder()\n",
    "movies['genre'] = label_encoder.fit_transform(movies['genre'].fillna('Unknown'))"
   ]
  },
  {
   "cell_type": "code",
   "execution_count": 43,
   "id": "d86275d0",
   "metadata": {
    "execution": {
     "iopub.execute_input": "2023-07-24T13:26:27.067108Z",
     "iopub.status.busy": "2023-07-24T13:26:27.066699Z",
     "iopub.status.idle": "2023-07-24T13:26:27.117889Z",
     "shell.execute_reply": "2023-07-24T13:26:27.116800Z"
    },
    "papermill": {
     "duration": 0.08058,
     "end_time": "2023-07-24T13:26:27.120451",
     "exception": false,
     "start_time": "2023-07-24T13:26:27.039871",
     "status": "completed"
    },
    "tags": []
   },
   "outputs": [],
   "source": [
    "# takeaway 10\n",
    "label_encoder = LabelEncoder()\n",
    "movies['originalLanguage'] = label_encoder.fit_transform(movies['originalLanguage'].fillna('Unknown'))"
   ]
  },
  {
   "cell_type": "code",
   "execution_count": 44,
   "id": "4c17a0e7",
   "metadata": {
    "execution": {
     "iopub.execute_input": "2023-07-24T13:26:27.173710Z",
     "iopub.status.busy": "2023-07-24T13:26:27.173292Z",
     "iopub.status.idle": "2023-07-24T13:26:27.187788Z",
     "shell.execute_reply": "2023-07-24T13:26:27.186693Z"
    },
    "papermill": {
     "duration": 0.044658,
     "end_time": "2023-07-24T13:26:27.190272",
     "exception": false,
     "start_time": "2023-07-24T13:26:27.145614",
     "status": "completed"
    },
    "tags": []
   },
   "outputs": [],
   "source": [
    "# takeaway 11\n",
    "movies.drop(['director', 'boxOffice', 'distributor','soundType'], axis=1, inplace=True)"
   ]
  },
  {
   "cell_type": "code",
   "execution_count": 45,
   "id": "863cebfa",
   "metadata": {
    "execution": {
     "iopub.execute_input": "2023-07-24T13:26:27.242900Z",
     "iopub.status.busy": "2023-07-24T13:26:27.242515Z",
     "iopub.status.idle": "2023-07-24T13:26:27.511352Z",
     "shell.execute_reply": "2023-07-24T13:26:27.510535Z"
    },
    "papermill": {
     "duration": 0.297353,
     "end_time": "2023-07-24T13:26:27.513545",
     "exception": false,
     "start_time": "2023-07-24T13:26:27.216192",
     "status": "completed"
    },
    "tags": []
   },
   "outputs": [
    {
     "data": {
      "text/html": [
       "<style>#sk-container-id-1 {color: black;background-color: white;}#sk-container-id-1 pre{padding: 0;}#sk-container-id-1 div.sk-toggleable {background-color: white;}#sk-container-id-1 label.sk-toggleable__label {cursor: pointer;display: block;width: 100%;margin-bottom: 0;padding: 0.3em;box-sizing: border-box;text-align: center;}#sk-container-id-1 label.sk-toggleable__label-arrow:before {content: \"▸\";float: left;margin-right: 0.25em;color: #696969;}#sk-container-id-1 label.sk-toggleable__label-arrow:hover:before {color: black;}#sk-container-id-1 div.sk-estimator:hover label.sk-toggleable__label-arrow:before {color: black;}#sk-container-id-1 div.sk-toggleable__content {max-height: 0;max-width: 0;overflow: hidden;text-align: left;background-color: #f0f8ff;}#sk-container-id-1 div.sk-toggleable__content pre {margin: 0.2em;color: black;border-radius: 0.25em;background-color: #f0f8ff;}#sk-container-id-1 input.sk-toggleable__control:checked~div.sk-toggleable__content {max-height: 200px;max-width: 100%;overflow: auto;}#sk-container-id-1 input.sk-toggleable__control:checked~label.sk-toggleable__label-arrow:before {content: \"▾\";}#sk-container-id-1 div.sk-estimator input.sk-toggleable__control:checked~label.sk-toggleable__label {background-color: #d4ebff;}#sk-container-id-1 div.sk-label input.sk-toggleable__control:checked~label.sk-toggleable__label {background-color: #d4ebff;}#sk-container-id-1 input.sk-hidden--visually {border: 0;clip: rect(1px 1px 1px 1px);clip: rect(1px, 1px, 1px, 1px);height: 1px;margin: -1px;overflow: hidden;padding: 0;position: absolute;width: 1px;}#sk-container-id-1 div.sk-estimator {font-family: monospace;background-color: #f0f8ff;border: 1px dotted black;border-radius: 0.25em;box-sizing: border-box;margin-bottom: 0.5em;}#sk-container-id-1 div.sk-estimator:hover {background-color: #d4ebff;}#sk-container-id-1 div.sk-parallel-item::after {content: \"\";width: 100%;border-bottom: 1px solid gray;flex-grow: 1;}#sk-container-id-1 div.sk-label:hover label.sk-toggleable__label {background-color: #d4ebff;}#sk-container-id-1 div.sk-serial::before {content: \"\";position: absolute;border-left: 1px solid gray;box-sizing: border-box;top: 0;bottom: 0;left: 50%;z-index: 0;}#sk-container-id-1 div.sk-serial {display: flex;flex-direction: column;align-items: center;background-color: white;padding-right: 0.2em;padding-left: 0.2em;position: relative;}#sk-container-id-1 div.sk-item {position: relative;z-index: 1;}#sk-container-id-1 div.sk-parallel {display: flex;align-items: stretch;justify-content: center;background-color: white;position: relative;}#sk-container-id-1 div.sk-item::before, #sk-container-id-1 div.sk-parallel-item::before {content: \"\";position: absolute;border-left: 1px solid gray;box-sizing: border-box;top: 0;bottom: 0;left: 50%;z-index: -1;}#sk-container-id-1 div.sk-parallel-item {display: flex;flex-direction: column;z-index: 1;position: relative;background-color: white;}#sk-container-id-1 div.sk-parallel-item:first-child::after {align-self: flex-end;width: 50%;}#sk-container-id-1 div.sk-parallel-item:last-child::after {align-self: flex-start;width: 50%;}#sk-container-id-1 div.sk-parallel-item:only-child::after {width: 0;}#sk-container-id-1 div.sk-dashed-wrapped {border: 1px dashed gray;margin: 0 0.4em 0.5em 0.4em;box-sizing: border-box;padding-bottom: 0.4em;background-color: white;}#sk-container-id-1 div.sk-label label {font-family: monospace;font-weight: bold;display: inline-block;line-height: 1.2em;}#sk-container-id-1 div.sk-label-container {text-align: center;}#sk-container-id-1 div.sk-container {/* jupyter's `normalize.less` sets `[hidden] { display: none; }` but bootstrap.min.css set `[hidden] { display: none !important; }` so we also need the `!important` here to be able to override the default hidden behavior on the sphinx rendered scikit-learn.org. See: https://github.com/scikit-learn/scikit-learn/issues/21755 */display: inline-block !important;position: relative;}#sk-container-id-1 div.sk-text-repr-fallback {display: none;}</style><div id=\"sk-container-id-1\" class=\"sk-top-container\"><div class=\"sk-text-repr-fallback\"><pre>LinearRegression()</pre><b>In a Jupyter environment, please rerun this cell to show the HTML representation or trust the notebook. <br />On GitHub, the HTML representation is unable to render, please try loading this page with nbviewer.org.</b></div><div class=\"sk-container\" hidden><div class=\"sk-item\"><div class=\"sk-estimator sk-toggleable\"><input class=\"sk-toggleable__control sk-hidden--visually\" id=\"sk-estimator-id-1\" type=\"checkbox\" checked><label for=\"sk-estimator-id-1\" class=\"sk-toggleable__label sk-toggleable__label-arrow\">LinearRegression</label><div class=\"sk-toggleable__content\"><pre>LinearRegression()</pre></div></div></div></div></div>"
      ],
      "text/plain": [
       "LinearRegression()"
      ]
     },
     "execution_count": 45,
     "metadata": {},
     "output_type": "execute_result"
    }
   ],
   "source": [
    "#takeaeway 3\n",
    "from sklearn.linear_model import LinearRegression\n",
    "movies_regression=movies[['audienceScore','releaseDateStreaming','runtimeMinutes','genre','originalLanguage']]\n",
    "train_data = movies_regression[movies['audienceScore'].notnull()]\n",
    "predict_data = movies_regression[movies['audienceScore'].isnull()]\n",
    "X_audience_train = train_data.drop('audienceScore', axis=1)  # Drop the original 'audienceScore' column\n",
    "y_audience_train = train_data['audienceScore']  # Target variable - 'audienceScore'\n",
    "regressor = LinearRegression()\n",
    "regressor.fit(X_audience_train, y_audience_train)"
   ]
  },
  {
   "cell_type": "code",
   "execution_count": 46,
   "id": "8b6bdc2d",
   "metadata": {
    "execution": {
     "iopub.execute_input": "2023-07-24T13:26:27.568654Z",
     "iopub.status.busy": "2023-07-24T13:26:27.567531Z",
     "iopub.status.idle": "2023-07-24T13:26:27.582683Z",
     "shell.execute_reply": "2023-07-24T13:26:27.581484Z"
    },
    "papermill": {
     "duration": 0.046287,
     "end_time": "2023-07-24T13:26:27.586050",
     "exception": false,
     "start_time": "2023-07-24T13:26:27.539763",
     "status": "completed"
    },
    "tags": []
   },
   "outputs": [],
   "source": [
    "X_audience_predict = predict_data.drop('audienceScore', axis=1)\n",
    "imputed_scores = regressor.predict(X_audience_predict)\n",
    "\n",
    "\n",
    "movies.loc[movies['audienceScore'].isnull(), 'audienceScore'] = imputed_scores"
   ]
  },
  {
   "cell_type": "code",
   "execution_count": 47,
   "id": "b0b33153",
   "metadata": {
    "execution": {
     "iopub.execute_input": "2023-07-24T13:26:27.695272Z",
     "iopub.status.busy": "2023-07-24T13:26:27.694718Z",
     "iopub.status.idle": "2023-07-24T13:26:27.711785Z",
     "shell.execute_reply": "2023-07-24T13:26:27.710935Z"
    },
    "papermill": {
     "duration": 0.070267,
     "end_time": "2023-07-24T13:26:27.713830",
     "exception": false,
     "start_time": "2023-07-24T13:26:27.643563",
     "status": "completed"
    },
    "tags": []
   },
   "outputs": [
    {
     "data": {
      "text/html": [
       "<div>\n",
       "<style scoped>\n",
       "    .dataframe tbody tr th:only-of-type {\n",
       "        vertical-align: middle;\n",
       "    }\n",
       "\n",
       "    .dataframe tbody tr th {\n",
       "        vertical-align: top;\n",
       "    }\n",
       "\n",
       "    .dataframe thead th {\n",
       "        text-align: right;\n",
       "    }\n",
       "</style>\n",
       "<table border=\"1\" class=\"dataframe\">\n",
       "  <thead>\n",
       "    <tr style=\"text-align: right;\">\n",
       "      <th></th>\n",
       "      <th>movieid</th>\n",
       "      <th>audienceScore</th>\n",
       "      <th>releaseDateStreaming</th>\n",
       "      <th>runtimeMinutes</th>\n",
       "      <th>genre</th>\n",
       "      <th>originalLanguage</th>\n",
       "    </tr>\n",
       "  </thead>\n",
       "  <tbody>\n",
       "    <tr>\n",
       "      <th>0</th>\n",
       "      <td>han_solo_heroic_myth_wonder_woman</td>\n",
       "      <td>50.000000</td>\n",
       "      <td>32757</td>\n",
       "      <td>75.0</td>\n",
       "      <td>888</td>\n",
       "      <td>22</td>\n",
       "    </tr>\n",
       "    <tr>\n",
       "      <th>1</th>\n",
       "      <td>voyage_tyler_durden_han_solo_stardust</td>\n",
       "      <td>59.394743</td>\n",
       "      <td>33292</td>\n",
       "      <td>114.0</td>\n",
       "      <td>1248</td>\n",
       "      <td>22</td>\n",
       "    </tr>\n",
       "    <tr>\n",
       "      <th>2</th>\n",
       "      <td>norman_bates_ferris_bueller_hermione_granger_v...</td>\n",
       "      <td>43.000000</td>\n",
       "      <td>31267</td>\n",
       "      <td>120.0</td>\n",
       "      <td>1248</td>\n",
       "      <td>51</td>\n",
       "    </tr>\n",
       "    <tr>\n",
       "      <th>3</th>\n",
       "      <td>elegant_hermione_granger</td>\n",
       "      <td>60.000000</td>\n",
       "      <td>33547</td>\n",
       "      <td>90.0</td>\n",
       "      <td>322</td>\n",
       "      <td>22</td>\n",
       "    </tr>\n",
       "    <tr>\n",
       "      <th>4</th>\n",
       "      <td>adventure_rocky_balboa</td>\n",
       "      <td>70.000000</td>\n",
       "      <td>32241</td>\n",
       "      <td>80.0</td>\n",
       "      <td>1530</td>\n",
       "      <td>22</td>\n",
       "    </tr>\n",
       "    <tr>\n",
       "      <th>...</th>\n",
       "      <td>...</td>\n",
       "      <td>...</td>\n",
       "      <td>...</td>\n",
       "      <td>...</td>\n",
       "      <td>...</td>\n",
       "      <td>...</td>\n",
       "    </tr>\n",
       "    <tr>\n",
       "      <th>143252</th>\n",
       "      <td>james_bond_jason_bourne</td>\n",
       "      <td>69.287541</td>\n",
       "      <td>32888</td>\n",
       "      <td>131.0</td>\n",
       "      <td>322</td>\n",
       "      <td>39</td>\n",
       "    </tr>\n",
       "    <tr>\n",
       "      <th>143253</th>\n",
       "      <td>sherlock_holmes_surreal_james_bond</td>\n",
       "      <td>14.000000</td>\n",
       "      <td>31267</td>\n",
       "      <td>90.0</td>\n",
       "      <td>8</td>\n",
       "      <td>47</td>\n",
       "    </tr>\n",
       "    <tr>\n",
       "      <th>143254</th>\n",
       "      <td>mr._miyagi_katniss_everdeen_harmony</td>\n",
       "      <td>55.488562</td>\n",
       "      <td>31267</td>\n",
       "      <td>99.0</td>\n",
       "      <td>1248</td>\n",
       "      <td>22</td>\n",
       "    </tr>\n",
       "    <tr>\n",
       "      <th>143255</th>\n",
       "      <td>elegant_emerald_valiant_donnie_darko</td>\n",
       "      <td>71.000000</td>\n",
       "      <td>31267</td>\n",
       "      <td>53.0</td>\n",
       "      <td>1041</td>\n",
       "      <td>22</td>\n",
       "    </tr>\n",
       "    <tr>\n",
       "      <th>143256</th>\n",
       "      <td>wonder_hermione_granger_hulk_v</td>\n",
       "      <td>46.483949</td>\n",
       "      <td>28462</td>\n",
       "      <td>63.0</td>\n",
       "      <td>1248</td>\n",
       "      <td>22</td>\n",
       "    </tr>\n",
       "  </tbody>\n",
       "</table>\n",
       "<p>126404 rows × 6 columns</p>\n",
       "</div>"
      ],
      "text/plain": [
       "                                                  movieid  audienceScore  \\\n",
       "0                       han_solo_heroic_myth_wonder_woman      50.000000   \n",
       "1                   voyage_tyler_durden_han_solo_stardust      59.394743   \n",
       "2       norman_bates_ferris_bueller_hermione_granger_v...      43.000000   \n",
       "3                                elegant_hermione_granger      60.000000   \n",
       "4                                  adventure_rocky_balboa      70.000000   \n",
       "...                                                   ...            ...   \n",
       "143252                            james_bond_jason_bourne      69.287541   \n",
       "143253                 sherlock_holmes_surreal_james_bond      14.000000   \n",
       "143254                mr._miyagi_katniss_everdeen_harmony      55.488562   \n",
       "143255               elegant_emerald_valiant_donnie_darko      71.000000   \n",
       "143256                     wonder_hermione_granger_hulk_v      46.483949   \n",
       "\n",
       "        releaseDateStreaming  runtimeMinutes  genre  originalLanguage  \n",
       "0                      32757            75.0    888                22  \n",
       "1                      33292           114.0   1248                22  \n",
       "2                      31267           120.0   1248                51  \n",
       "3                      33547            90.0    322                22  \n",
       "4                      32241            80.0   1530                22  \n",
       "...                      ...             ...    ...               ...  \n",
       "143252                 32888           131.0    322                39  \n",
       "143253                 31267            90.0      8                47  \n",
       "143254                 31267            99.0   1248                22  \n",
       "143255                 31267            53.0   1041                22  \n",
       "143256                 28462            63.0   1248                22  \n",
       "\n",
       "[126404 rows x 6 columns]"
      ]
     },
     "execution_count": 47,
     "metadata": {},
     "output_type": "execute_result"
    }
   ],
   "source": [
    "movies"
   ]
  },
  {
   "cell_type": "markdown",
   "id": "ab4e6bbb",
   "metadata": {
    "papermill": {
     "duration": 0.026746,
     "end_time": "2023-07-24T13:26:27.767713",
     "exception": false,
     "start_time": "2023-07-24T13:26:27.740967",
     "status": "completed"
    },
    "tags": []
   },
   "source": [
    "# Now we will merge movies and train data"
   ]
  },
  {
   "cell_type": "code",
   "execution_count": 48,
   "id": "7a63311a",
   "metadata": {
    "execution": {
     "iopub.execute_input": "2023-07-24T13:26:27.824360Z",
     "iopub.status.busy": "2023-07-24T13:26:27.823667Z",
     "iopub.status.idle": "2023-07-24T13:26:27.975741Z",
     "shell.execute_reply": "2023-07-24T13:26:27.974566Z"
    },
    "papermill": {
     "duration": 0.182796,
     "end_time": "2023-07-24T13:26:27.978250",
     "exception": false,
     "start_time": "2023-07-24T13:26:27.795454",
     "status": "completed"
    },
    "tags": []
   },
   "outputs": [],
   "source": [
    "data = pd.merge(train, movies, on='movieid', how='left')"
   ]
  },
  {
   "cell_type": "code",
   "execution_count": 49,
   "id": "056ae2b6",
   "metadata": {
    "execution": {
     "iopub.execute_input": "2023-07-24T13:26:28.036414Z",
     "iopub.status.busy": "2023-07-24T13:26:28.035923Z",
     "iopub.status.idle": "2023-07-24T13:26:28.059268Z",
     "shell.execute_reply": "2023-07-24T13:26:28.058399Z"
    },
    "papermill": {
     "duration": 0.056331,
     "end_time": "2023-07-24T13:26:28.061287",
     "exception": false,
     "start_time": "2023-07-24T13:26:28.004956",
     "status": "completed"
    },
    "tags": []
   },
   "outputs": [
    {
     "data": {
      "text/html": [
       "<div>\n",
       "<style scoped>\n",
       "    .dataframe tbody tr th:only-of-type {\n",
       "        vertical-align: middle;\n",
       "    }\n",
       "\n",
       "    .dataframe tbody tr th {\n",
       "        vertical-align: top;\n",
       "    }\n",
       "\n",
       "    .dataframe thead th {\n",
       "        text-align: right;\n",
       "    }\n",
       "</style>\n",
       "<table border=\"1\" class=\"dataframe\">\n",
       "  <thead>\n",
       "    <tr style=\"text-align: right;\">\n",
       "      <th></th>\n",
       "      <th>movieid</th>\n",
       "      <th>reviewerName</th>\n",
       "      <th>isFrequentReviewer</th>\n",
       "      <th>reviewText</th>\n",
       "      <th>sentiment</th>\n",
       "      <th>audienceScore</th>\n",
       "      <th>releaseDateStreaming</th>\n",
       "      <th>runtimeMinutes</th>\n",
       "      <th>genre</th>\n",
       "      <th>originalLanguage</th>\n",
       "    </tr>\n",
       "  </thead>\n",
       "  <tbody>\n",
       "    <tr>\n",
       "      <th>0</th>\n",
       "      <td>marvelous_pirate</td>\n",
       "      <td>Benjamin Henry</td>\n",
       "      <td>False</td>\n",
       "      <td>Henry Selick’s first movie since 2009’s Corali...</td>\n",
       "      <td>POSITIVE</td>\n",
       "      <td>65.000000</td>\n",
       "      <td>34282</td>\n",
       "      <td>105.0</td>\n",
       "      <td>738</td>\n",
       "      <td>22</td>\n",
       "    </tr>\n",
       "    <tr>\n",
       "      <th>1</th>\n",
       "      <td>tony_montana_frodo_baggins_v_rocky_balboa</td>\n",
       "      <td>Felicia Lopez</td>\n",
       "      <td>False</td>\n",
       "      <td>With a cast that reads like the Vogue Oscar pa...</td>\n",
       "      <td>NEGATIVE</td>\n",
       "      <td>58.137082</td>\n",
       "      <td>30702</td>\n",
       "      <td>91.0</td>\n",
       "      <td>0</td>\n",
       "      <td>22</td>\n",
       "    </tr>\n",
       "    <tr>\n",
       "      <th>2</th>\n",
       "      <td>darth_vader_katniss_everdeen_sorcerer_donnie_d...</td>\n",
       "      <td>Mr. Charles Burgess</td>\n",
       "      <td>True</td>\n",
       "      <td>Creed II does not give us anything but another...</td>\n",
       "      <td>POSITIVE</td>\n",
       "      <td>80.000000</td>\n",
       "      <td>32928</td>\n",
       "      <td>130.0</td>\n",
       "      <td>1248</td>\n",
       "      <td>22</td>\n",
       "    </tr>\n",
       "    <tr>\n",
       "      <th>3</th>\n",
       "      <td>lara_croft_glimmer</td>\n",
       "      <td>Ryan Barrett</td>\n",
       "      <td>False</td>\n",
       "      <td>I know what you're thinking, but this is no Li...</td>\n",
       "      <td>POSITIVE</td>\n",
       "      <td>54.610161</td>\n",
       "      <td>33404</td>\n",
       "      <td>53.0</td>\n",
       "      <td>1248</td>\n",
       "      <td>87</td>\n",
       "    </tr>\n",
       "    <tr>\n",
       "      <th>4</th>\n",
       "      <td>jason_bourne_surreal_the_terminator_indiana_jones</td>\n",
       "      <td>Alexander Glover</td>\n",
       "      <td>False</td>\n",
       "      <td>Director Fernando Meirelles tells the story wi...</td>\n",
       "      <td>POSITIVE</td>\n",
       "      <td>97.000000</td>\n",
       "      <td>27566</td>\n",
       "      <td>131.0</td>\n",
       "      <td>981</td>\n",
       "      <td>75</td>\n",
       "    </tr>\n",
       "    <tr>\n",
       "      <th>...</th>\n",
       "      <td>...</td>\n",
       "      <td>...</td>\n",
       "      <td>...</td>\n",
       "      <td>...</td>\n",
       "      <td>...</td>\n",
       "      <td>...</td>\n",
       "      <td>...</td>\n",
       "      <td>...</td>\n",
       "      <td>...</td>\n",
       "      <td>...</td>\n",
       "    </tr>\n",
       "    <tr>\n",
       "      <th>162753</th>\n",
       "      <td>the_joker_ethereal_captain_jack_sparrow_fantastic</td>\n",
       "      <td>Danny Mueller</td>\n",
       "      <td>False</td>\n",
       "      <td>A top-notch thriller with genuine surprises an...</td>\n",
       "      <td>POSITIVE</td>\n",
       "      <td>49.628891</td>\n",
       "      <td>27412</td>\n",
       "      <td>96.0</td>\n",
       "      <td>2447</td>\n",
       "      <td>22</td>\n",
       "    </tr>\n",
       "    <tr>\n",
       "      <th>162754</th>\n",
       "      <td>e.t._hannibal_lecter_vito_corleone_katniss_eve...</td>\n",
       "      <td>Jennifer Clayton</td>\n",
       "      <td>True</td>\n",
       "      <td>Some people find Derek Zoolander funny and lik...</td>\n",
       "      <td>NEGATIVE</td>\n",
       "      <td>20.000000</td>\n",
       "      <td>31934</td>\n",
       "      <td>102.0</td>\n",
       "      <td>722</td>\n",
       "      <td>22</td>\n",
       "    </tr>\n",
       "    <tr>\n",
       "      <th>162755</th>\n",
       "      <td>infinite_enigma_luke_skywalker</td>\n",
       "      <td>Bryan Wilson</td>\n",
       "      <td>False</td>\n",
       "      <td>This fun, gentle comedy focuses mainly on them...</td>\n",
       "      <td>POSITIVE</td>\n",
       "      <td>78.000000</td>\n",
       "      <td>34149</td>\n",
       "      <td>90.0</td>\n",
       "      <td>768</td>\n",
       "      <td>22</td>\n",
       "    </tr>\n",
       "    <tr>\n",
       "      <th>162756</th>\n",
       "      <td>emerald_oracle_iron_man_wolverine</td>\n",
       "      <td>Erik Parker</td>\n",
       "      <td>False</td>\n",
       "      <td>The film is rescued by a strong third act, but...</td>\n",
       "      <td>NEGATIVE</td>\n",
       "      <td>39.000000</td>\n",
       "      <td>25522</td>\n",
       "      <td>88.0</td>\n",
       "      <td>2155</td>\n",
       "      <td>22</td>\n",
       "    </tr>\n",
       "    <tr>\n",
       "      <th>162757</th>\n",
       "      <td>james_t._kirk_phenomenal_zephyr_chronicles</td>\n",
       "      <td>Howard Evans</td>\n",
       "      <td>False</td>\n",
       "      <td>A peerless exercise in stimulus response.</td>\n",
       "      <td>POSITIVE</td>\n",
       "      <td>57.000000</td>\n",
       "      <td>29596</td>\n",
       "      <td>86.0</td>\n",
       "      <td>1891</td>\n",
       "      <td>22</td>\n",
       "    </tr>\n",
       "  </tbody>\n",
       "</table>\n",
       "<p>162758 rows × 10 columns</p>\n",
       "</div>"
      ],
      "text/plain": [
       "                                                  movieid  \\\n",
       "0                                        marvelous_pirate   \n",
       "1               tony_montana_frodo_baggins_v_rocky_balboa   \n",
       "2       darth_vader_katniss_everdeen_sorcerer_donnie_d...   \n",
       "3                                      lara_croft_glimmer   \n",
       "4       jason_bourne_surreal_the_terminator_indiana_jones   \n",
       "...                                                   ...   \n",
       "162753  the_joker_ethereal_captain_jack_sparrow_fantastic   \n",
       "162754  e.t._hannibal_lecter_vito_corleone_katniss_eve...   \n",
       "162755                     infinite_enigma_luke_skywalker   \n",
       "162756                  emerald_oracle_iron_man_wolverine   \n",
       "162757         james_t._kirk_phenomenal_zephyr_chronicles   \n",
       "\n",
       "               reviewerName  isFrequentReviewer  \\\n",
       "0            Benjamin Henry               False   \n",
       "1             Felicia Lopez               False   \n",
       "2       Mr. Charles Burgess                True   \n",
       "3              Ryan Barrett               False   \n",
       "4          Alexander Glover               False   \n",
       "...                     ...                 ...   \n",
       "162753        Danny Mueller               False   \n",
       "162754     Jennifer Clayton                True   \n",
       "162755         Bryan Wilson               False   \n",
       "162756          Erik Parker               False   \n",
       "162757         Howard Evans               False   \n",
       "\n",
       "                                               reviewText sentiment  \\\n",
       "0       Henry Selick’s first movie since 2009’s Corali...  POSITIVE   \n",
       "1       With a cast that reads like the Vogue Oscar pa...  NEGATIVE   \n",
       "2       Creed II does not give us anything but another...  POSITIVE   \n",
       "3       I know what you're thinking, but this is no Li...  POSITIVE   \n",
       "4       Director Fernando Meirelles tells the story wi...  POSITIVE   \n",
       "...                                                   ...       ...   \n",
       "162753  A top-notch thriller with genuine surprises an...  POSITIVE   \n",
       "162754  Some people find Derek Zoolander funny and lik...  NEGATIVE   \n",
       "162755  This fun, gentle comedy focuses mainly on them...  POSITIVE   \n",
       "162756  The film is rescued by a strong third act, but...  NEGATIVE   \n",
       "162757          A peerless exercise in stimulus response.  POSITIVE   \n",
       "\n",
       "        audienceScore  releaseDateStreaming  runtimeMinutes  genre  \\\n",
       "0           65.000000                 34282           105.0    738   \n",
       "1           58.137082                 30702            91.0      0   \n",
       "2           80.000000                 32928           130.0   1248   \n",
       "3           54.610161                 33404            53.0   1248   \n",
       "4           97.000000                 27566           131.0    981   \n",
       "...               ...                   ...             ...    ...   \n",
       "162753      49.628891                 27412            96.0   2447   \n",
       "162754      20.000000                 31934           102.0    722   \n",
       "162755      78.000000                 34149            90.0    768   \n",
       "162756      39.000000                 25522            88.0   2155   \n",
       "162757      57.000000                 29596            86.0   1891   \n",
       "\n",
       "        originalLanguage  \n",
       "0                     22  \n",
       "1                     22  \n",
       "2                     22  \n",
       "3                     87  \n",
       "4                     75  \n",
       "...                  ...  \n",
       "162753                22  \n",
       "162754                22  \n",
       "162755                22  \n",
       "162756                22  \n",
       "162757                22  \n",
       "\n",
       "[162758 rows x 10 columns]"
      ]
     },
     "execution_count": 49,
     "metadata": {},
     "output_type": "execute_result"
    }
   ],
   "source": [
    "data"
   ]
  },
  {
   "cell_type": "code",
   "execution_count": 50,
   "id": "128399c7",
   "metadata": {
    "execution": {
     "iopub.execute_input": "2023-07-24T13:26:28.134195Z",
     "iopub.status.busy": "2023-07-24T13:26:28.133653Z",
     "iopub.status.idle": "2023-07-24T13:26:28.823108Z",
     "shell.execute_reply": "2023-07-24T13:26:28.821998Z"
    },
    "papermill": {
     "duration": 0.72326,
     "end_time": "2023-07-24T13:26:28.825406",
     "exception": false,
     "start_time": "2023-07-24T13:26:28.102146",
     "status": "completed"
    },
    "tags": []
   },
   "outputs": [
    {
     "data": {
      "image/png": "[encoded data removed]",
      "text/plain": [
       "<Figure size 800x600 with 1 Axes>"
      ]
     },
     "metadata": {},
     "output_type": "display_data"
    }
   ],
   "source": [
    "import matplotlib.pyplot as plt\n",
    "import seaborn as sns\n",
    "\n",
    "plt.figure(figsize=(8, 6))\n",
    "sns.boxplot(x='sentiment', y='audienceScore', data=data, palette='pastel')\n",
    "plt.xlabel('Sentiment')\n",
    "plt.ylabel('Audience Score')\n",
    "plt.title('Relationship between Audience Score and Sentiment (Box Plot)')\n",
    "plt.grid(axis='y')\n",
    "plt.show()"
   ]
  },
  {
   "cell_type": "code",
   "execution_count": 51,
   "id": "72ef535c",
   "metadata": {
    "execution": {
     "iopub.execute_input": "2023-07-24T13:26:28.883985Z",
     "iopub.status.busy": "2023-07-24T13:26:28.883623Z",
     "iopub.status.idle": "2023-07-24T13:26:28.888227Z",
     "shell.execute_reply": "2023-07-24T13:26:28.887071Z"
    },
    "papermill": {
     "duration": 0.037524,
     "end_time": "2023-07-24T13:26:28.890605",
     "exception": false,
     "start_time": "2023-07-24T13:26:28.853081",
     "status": "completed"
    },
    "tags": []
   },
   "outputs": [],
   "source": [
    "# We can infer that median of positive points is higher than that of negative points, altough positive have some outliers"
   ]
  },
  {
   "cell_type": "code",
   "execution_count": 52,
   "id": "07bab4c7",
   "metadata": {
    "execution": {
     "iopub.execute_input": "2023-07-24T13:26:28.947386Z",
     "iopub.status.busy": "2023-07-24T13:26:28.946644Z",
     "iopub.status.idle": "2023-07-24T13:26:28.964057Z",
     "shell.execute_reply": "2023-07-24T13:26:28.963103Z"
    },
    "papermill": {
     "duration": 0.04818,
     "end_time": "2023-07-24T13:26:28.966590",
     "exception": false,
     "start_time": "2023-07-24T13:26:28.918410",
     "status": "completed"
    },
    "tags": []
   },
   "outputs": [],
   "source": [
    "# we will remove movieid reviewerName as they are not required\n",
    "data.drop(['movieid', 'reviewerName'], axis=1, inplace=True)"
   ]
  },
  {
   "cell_type": "code",
   "execution_count": 53,
   "id": "2e87ff87",
   "metadata": {
    "execution": {
     "iopub.execute_input": "2023-07-24T13:26:29.024331Z",
     "iopub.status.busy": "2023-07-24T13:26:29.023589Z",
     "iopub.status.idle": "2023-07-24T13:26:29.040596Z",
     "shell.execute_reply": "2023-07-24T13:26:29.039521Z"
    },
    "papermill": {
     "duration": 0.048784,
     "end_time": "2023-07-24T13:26:29.042878",
     "exception": false,
     "start_time": "2023-07-24T13:26:28.994094",
     "status": "completed"
    },
    "tags": []
   },
   "outputs": [
    {
     "data": {
      "text/html": [
       "<div>\n",
       "<style scoped>\n",
       "    .dataframe tbody tr th:only-of-type {\n",
       "        vertical-align: middle;\n",
       "    }\n",
       "\n",
       "    .dataframe tbody tr th {\n",
       "        vertical-align: top;\n",
       "    }\n",
       "\n",
       "    .dataframe thead th {\n",
       "        text-align: right;\n",
       "    }\n",
       "</style>\n",
       "<table border=\"1\" class=\"dataframe\">\n",
       "  <thead>\n",
       "    <tr style=\"text-align: right;\">\n",
       "      <th></th>\n",
       "      <th>isFrequentReviewer</th>\n",
       "      <th>reviewText</th>\n",
       "      <th>sentiment</th>\n",
       "      <th>audienceScore</th>\n",
       "      <th>releaseDateStreaming</th>\n",
       "      <th>runtimeMinutes</th>\n",
       "      <th>genre</th>\n",
       "      <th>originalLanguage</th>\n",
       "    </tr>\n",
       "  </thead>\n",
       "  <tbody>\n",
       "    <tr>\n",
       "      <th>0</th>\n",
       "      <td>False</td>\n",
       "      <td>Henry Selick’s first movie since 2009’s Corali...</td>\n",
       "      <td>POSITIVE</td>\n",
       "      <td>65.000000</td>\n",
       "      <td>34282</td>\n",
       "      <td>105.0</td>\n",
       "      <td>738</td>\n",
       "      <td>22</td>\n",
       "    </tr>\n",
       "    <tr>\n",
       "      <th>1</th>\n",
       "      <td>False</td>\n",
       "      <td>With a cast that reads like the Vogue Oscar pa...</td>\n",
       "      <td>NEGATIVE</td>\n",
       "      <td>58.137082</td>\n",
       "      <td>30702</td>\n",
       "      <td>91.0</td>\n",
       "      <td>0</td>\n",
       "      <td>22</td>\n",
       "    </tr>\n",
       "    <tr>\n",
       "      <th>2</th>\n",
       "      <td>True</td>\n",
       "      <td>Creed II does not give us anything but another...</td>\n",
       "      <td>POSITIVE</td>\n",
       "      <td>80.000000</td>\n",
       "      <td>32928</td>\n",
       "      <td>130.0</td>\n",
       "      <td>1248</td>\n",
       "      <td>22</td>\n",
       "    </tr>\n",
       "    <tr>\n",
       "      <th>3</th>\n",
       "      <td>False</td>\n",
       "      <td>I know what you're thinking, but this is no Li...</td>\n",
       "      <td>POSITIVE</td>\n",
       "      <td>54.610161</td>\n",
       "      <td>33404</td>\n",
       "      <td>53.0</td>\n",
       "      <td>1248</td>\n",
       "      <td>87</td>\n",
       "    </tr>\n",
       "    <tr>\n",
       "      <th>4</th>\n",
       "      <td>False</td>\n",
       "      <td>Director Fernando Meirelles tells the story wi...</td>\n",
       "      <td>POSITIVE</td>\n",
       "      <td>97.000000</td>\n",
       "      <td>27566</td>\n",
       "      <td>131.0</td>\n",
       "      <td>981</td>\n",
       "      <td>75</td>\n",
       "    </tr>\n",
       "    <tr>\n",
       "      <th>...</th>\n",
       "      <td>...</td>\n",
       "      <td>...</td>\n",
       "      <td>...</td>\n",
       "      <td>...</td>\n",
       "      <td>...</td>\n",
       "      <td>...</td>\n",
       "      <td>...</td>\n",
       "      <td>...</td>\n",
       "    </tr>\n",
       "    <tr>\n",
       "      <th>162753</th>\n",
       "      <td>False</td>\n",
       "      <td>A top-notch thriller with genuine surprises an...</td>\n",
       "      <td>POSITIVE</td>\n",
       "      <td>49.628891</td>\n",
       "      <td>27412</td>\n",
       "      <td>96.0</td>\n",
       "      <td>2447</td>\n",
       "      <td>22</td>\n",
       "    </tr>\n",
       "    <tr>\n",
       "      <th>162754</th>\n",
       "      <td>True</td>\n",
       "      <td>Some people find Derek Zoolander funny and lik...</td>\n",
       "      <td>NEGATIVE</td>\n",
       "      <td>20.000000</td>\n",
       "      <td>31934</td>\n",
       "      <td>102.0</td>\n",
       "      <td>722</td>\n",
       "      <td>22</td>\n",
       "    </tr>\n",
       "    <tr>\n",
       "      <th>162755</th>\n",
       "      <td>False</td>\n",
       "      <td>This fun, gentle comedy focuses mainly on them...</td>\n",
       "      <td>POSITIVE</td>\n",
       "      <td>78.000000</td>\n",
       "      <td>34149</td>\n",
       "      <td>90.0</td>\n",
       "      <td>768</td>\n",
       "      <td>22</td>\n",
       "    </tr>\n",
       "    <tr>\n",
       "      <th>162756</th>\n",
       "      <td>False</td>\n",
       "      <td>The film is rescued by a strong third act, but...</td>\n",
       "      <td>NEGATIVE</td>\n",
       "      <td>39.000000</td>\n",
       "      <td>25522</td>\n",
       "      <td>88.0</td>\n",
       "      <td>2155</td>\n",
       "      <td>22</td>\n",
       "    </tr>\n",
       "    <tr>\n",
       "      <th>162757</th>\n",
       "      <td>False</td>\n",
       "      <td>A peerless exercise in stimulus response.</td>\n",
       "      <td>POSITIVE</td>\n",
       "      <td>57.000000</td>\n",
       "      <td>29596</td>\n",
       "      <td>86.0</td>\n",
       "      <td>1891</td>\n",
       "      <td>22</td>\n",
       "    </tr>\n",
       "  </tbody>\n",
       "</table>\n",
       "<p>162758 rows × 8 columns</p>\n",
       "</div>"
      ],
      "text/plain": [
       "        isFrequentReviewer                                         reviewText  \\\n",
       "0                    False  Henry Selick’s first movie since 2009’s Corali...   \n",
       "1                    False  With a cast that reads like the Vogue Oscar pa...   \n",
       "2                     True  Creed II does not give us anything but another...   \n",
       "3                    False  I know what you're thinking, but this is no Li...   \n",
       "4                    False  Director Fernando Meirelles tells the story wi...   \n",
       "...                    ...                                                ...   \n",
       "162753               False  A top-notch thriller with genuine surprises an...   \n",
       "162754                True  Some people find Derek Zoolander funny and lik...   \n",
       "162755               False  This fun, gentle comedy focuses mainly on them...   \n",
       "162756               False  The film is rescued by a strong third act, but...   \n",
       "162757               False          A peerless exercise in stimulus response.   \n",
       "\n",
       "       sentiment  audienceScore  releaseDateStreaming  runtimeMinutes  genre  \\\n",
       "0       POSITIVE      65.000000                 34282           105.0    738   \n",
       "1       NEGATIVE      58.137082                 30702            91.0      0   \n",
       "2       POSITIVE      80.000000                 32928           130.0   1248   \n",
       "3       POSITIVE      54.610161                 33404            53.0   1248   \n",
       "4       POSITIVE      97.000000                 27566           131.0    981   \n",
       "...          ...            ...                   ...             ...    ...   \n",
       "162753  POSITIVE      49.628891                 27412            96.0   2447   \n",
       "162754  NEGATIVE      20.000000                 31934           102.0    722   \n",
       "162755  POSITIVE      78.000000                 34149            90.0    768   \n",
       "162756  NEGATIVE      39.000000                 25522            88.0   2155   \n",
       "162757  POSITIVE      57.000000                 29596            86.0   1891   \n",
       "\n",
       "        originalLanguage  \n",
       "0                     22  \n",
       "1                     22  \n",
       "2                     22  \n",
       "3                     87  \n",
       "4                     75  \n",
       "...                  ...  \n",
       "162753                22  \n",
       "162754                22  \n",
       "162755                22  \n",
       "162756                22  \n",
       "162757                22  \n",
       "\n",
       "[162758 rows x 8 columns]"
      ]
     },
     "execution_count": 53,
     "metadata": {},
     "output_type": "execute_result"
    }
   ],
   "source": [
    "data"
   ]
  },
  {
   "cell_type": "code",
   "execution_count": 54,
   "id": "d98b183b",
   "metadata": {
    "execution": {
     "iopub.execute_input": "2023-07-24T13:26:29.101574Z",
     "iopub.status.busy": "2023-07-24T13:26:29.100793Z",
     "iopub.status.idle": "2023-07-24T13:26:29.113995Z",
     "shell.execute_reply": "2023-07-24T13:26:29.112914Z"
    },
    "papermill": {
     "duration": 0.046,
     "end_time": "2023-07-24T13:26:29.116519",
     "exception": false,
     "start_time": "2023-07-24T13:26:29.070519",
     "status": "completed"
    },
    "tags": []
   },
   "outputs": [],
   "source": [
    "le=LabelEncoder()\n",
    "data['isFrequentReviewer'] = le.fit_transform(data['isFrequentReviewer'].fillna('Unknown'))"
   ]
  },
  {
   "cell_type": "markdown",
   "id": "6a4c01cf",
   "metadata": {
    "papermill": {
     "duration": 0.028111,
     "end_time": "2023-07-24T13:26:29.172232",
     "exception": false,
     "start_time": "2023-07-24T13:26:29.144121",
     "status": "completed"
    },
    "tags": []
   },
   "source": [
    "# Vectorize ReviewText"
   ]
  },
  {
   "cell_type": "code",
   "execution_count": 55,
   "id": "7705b463",
   "metadata": {
    "execution": {
     "iopub.execute_input": "2023-07-24T13:26:29.229601Z",
     "iopub.status.busy": "2023-07-24T13:26:29.229159Z",
     "iopub.status.idle": "2023-07-24T13:26:29.246679Z",
     "shell.execute_reply": "2023-07-24T13:26:29.245629Z"
    },
    "papermill": {
     "duration": 0.049489,
     "end_time": "2023-07-24T13:26:29.249171",
     "exception": false,
     "start_time": "2023-07-24T13:26:29.199682",
     "status": "completed"
    },
    "tags": []
   },
   "outputs": [],
   "source": [
    "from sklearn.feature_extraction.text import TfidfVectorizer "
   ]
  },
  {
   "cell_type": "code",
   "execution_count": 56,
   "id": "5da0b753",
   "metadata": {
    "execution": {
     "iopub.execute_input": "2023-07-24T13:26:29.307114Z",
     "iopub.status.busy": "2023-07-24T13:26:29.306453Z",
     "iopub.status.idle": "2023-07-24T13:26:29.335983Z",
     "shell.execute_reply": "2023-07-24T13:26:29.334900Z"
    },
    "papermill": {
     "duration": 0.061752,
     "end_time": "2023-07-24T13:26:29.338301",
     "exception": false,
     "start_time": "2023-07-24T13:26:29.276549",
     "status": "completed"
    },
    "tags": []
   },
   "outputs": [],
   "source": [
    "data.reviewText = data.reviewText.fillna('')"
   ]
  },
  {
   "cell_type": "code",
   "execution_count": 57,
   "id": "8a1efe8f",
   "metadata": {
    "execution": {
     "iopub.execute_input": "2023-07-24T13:26:29.394367Z",
     "iopub.status.busy": "2023-07-24T13:26:29.393982Z",
     "iopub.status.idle": "2023-07-24T13:26:33.387296Z",
     "shell.execute_reply": "2023-07-24T13:26:33.386502Z"
    },
    "papermill": {
     "duration": 4.024338,
     "end_time": "2023-07-24T13:26:33.389696",
     "exception": false,
     "start_time": "2023-07-24T13:26:29.365358",
     "status": "completed"
    },
    "tags": []
   },
   "outputs": [],
   "source": [
    "tfidf = TfidfVectorizer()\n",
    "X= tfidf.fit_transform(data[\"reviewText\"])"
   ]
  },
  {
   "cell_type": "code",
   "execution_count": 58,
   "id": "40e94fdc",
   "metadata": {
    "execution": {
     "iopub.execute_input": "2023-07-24T13:26:33.446573Z",
     "iopub.status.busy": "2023-07-24T13:26:33.445635Z",
     "iopub.status.idle": "2023-07-24T13:26:33.450500Z",
     "shell.execute_reply": "2023-07-24T13:26:33.449710Z"
    },
    "papermill": {
     "duration": 0.035375,
     "end_time": "2023-07-24T13:26:33.452586",
     "exception": false,
     "start_time": "2023-07-24T13:26:33.417211",
     "status": "completed"
    },
    "tags": []
   },
   "outputs": [],
   "source": [
    "from scipy.sparse import hstack, csr_matrix"
   ]
  },
  {
   "cell_type": "code",
   "execution_count": 59,
   "id": "2f818471",
   "metadata": {
    "execution": {
     "iopub.execute_input": "2023-07-24T13:26:33.510444Z",
     "iopub.status.busy": "2023-07-24T13:26:33.509679Z",
     "iopub.status.idle": "2023-07-24T13:26:33.520411Z",
     "shell.execute_reply": "2023-07-24T13:26:33.519529Z"
    },
    "papermill": {
     "duration": 0.042235,
     "end_time": "2023-07-24T13:26:33.522797",
     "exception": false,
     "start_time": "2023-07-24T13:26:33.480562",
     "status": "completed"
    },
    "tags": []
   },
   "outputs": [],
   "source": [
    "data = data.drop('reviewText',axis=1)"
   ]
  },
  {
   "cell_type": "code",
   "execution_count": 60,
   "id": "156e7d80",
   "metadata": {
    "execution": {
     "iopub.execute_input": "2023-07-24T13:26:33.579446Z",
     "iopub.status.busy": "2023-07-24T13:26:33.578664Z",
     "iopub.status.idle": "2023-07-24T13:26:33.587408Z",
     "shell.execute_reply": "2023-07-24T13:26:33.586615Z"
    },
    "papermill": {
     "duration": 0.039914,
     "end_time": "2023-07-24T13:26:33.589800",
     "exception": false,
     "start_time": "2023-07-24T13:26:33.549886",
     "status": "completed"
    },
    "tags": []
   },
   "outputs": [],
   "source": [
    "y_train = data['sentiment']\n",
    "data.drop('sentiment',axis=1,inplace=True)"
   ]
  },
  {
   "cell_type": "code",
   "execution_count": 61,
   "id": "85a70b36",
   "metadata": {
    "execution": {
     "iopub.execute_input": "2023-07-24T13:26:33.646973Z",
     "iopub.status.busy": "2023-07-24T13:26:33.646208Z",
     "iopub.status.idle": "2023-07-24T13:26:33.671469Z",
     "shell.execute_reply": "2023-07-24T13:26:33.670560Z"
    },
    "papermill": {
     "duration": 0.056264,
     "end_time": "2023-07-24T13:26:33.674080",
     "exception": false,
     "start_time": "2023-07-24T13:26:33.617816",
     "status": "completed"
    },
    "tags": []
   },
   "outputs": [],
   "source": [
    "from sklearn.preprocessing import StandardScaler\n",
    "ss=StandardScaler()\n",
    "data=ss.fit_transform(data)"
   ]
  },
  {
   "cell_type": "code",
   "execution_count": 62,
   "id": "fcad68a4",
   "metadata": {
    "execution": {
     "iopub.execute_input": "2023-07-24T13:26:33.731979Z",
     "iopub.status.busy": "2023-07-24T13:26:33.731557Z",
     "iopub.status.idle": "2023-07-24T13:26:33.844998Z",
     "shell.execute_reply": "2023-07-24T13:26:33.843972Z"
    },
    "papermill": {
     "duration": 0.144206,
     "end_time": "2023-07-24T13:26:33.847371",
     "exception": false,
     "start_time": "2023-07-24T13:26:33.703165",
     "status": "completed"
    },
    "tags": []
   },
   "outputs": [],
   "source": [
    "data= hstack([X, csr_matrix(data)])"
   ]
  },
  {
   "cell_type": "code",
   "execution_count": 63,
   "id": "6094aef9",
   "metadata": {
    "execution": {
     "iopub.execute_input": "2023-07-24T13:26:33.906642Z",
     "iopub.status.busy": "2023-07-24T13:26:33.906262Z",
     "iopub.status.idle": "2023-07-24T13:26:33.949872Z",
     "shell.execute_reply": "2023-07-24T13:26:33.947840Z"
    },
    "papermill": {
     "duration": 0.076109,
     "end_time": "2023-07-24T13:26:33.952305",
     "exception": false,
     "start_time": "2023-07-24T13:26:33.876196",
     "status": "completed"
    },
    "tags": []
   },
   "outputs": [
    {
     "name": "stdout",
     "output_type": "stream",
     "text": [
      "  (0, 35617)\t0.2567860162736015\n",
      "  (0, 37971)\t0.27523784812123053\n",
      "  (0, 55346)\t0.2663843537779286\n",
      "  (0, 21304)\t0.3429404578205858\n",
      "  (0, 26941)\t0.15046571295948769\n",
      "  (0, 12455)\t0.38736809237428155\n",
      "  (0, 307)\t0.3526713988257433\n",
      "  (0, 52537)\t0.23294976315778151\n",
      "  (0, 38084)\t0.12526409274454592\n",
      "  (0, 21551)\t0.18760851986423108\n",
      "  (0, 51163)\t0.4071473547222177\n",
      "  (0, 26583)\t0.3189711455209067\n",
      "  (0, 65220)\t-0.661763740118849\n",
      "  (0, 65221)\t0.028225473615889753\n",
      "  (0, 65222)\t1.6190855518522282\n",
      "  (0, 65223)\t-0.0068777096530509615\n",
      "  (0, 65224)\t-0.8556163483193389\n",
      "  (0, 65225)\t-0.3125496379578653\n",
      "  (1, 50513)\t0.2823248171190743\n",
      "  (1, 27149)\t0.1850669203537821\n",
      "  (1, 54838)\t0.22719976039266876\n",
      "  (1, 40303)\t0.05758389764613271\n",
      "  (1, 29510)\t0.19370854892459097\n",
      "  (1, 10286)\t0.18500211222597396\n",
      "  (1, 37254)\t0.21963458177665265\n",
      "  :\t:\n",
      "  (162756, 1134)\t0.3154937033555598\n",
      "  (162756, 55606)\t0.2894795876205392\n",
      "  (162756, 57974)\t0.2017499901905095\n",
      "  (162756, 21369)\t0.14468239166426308\n",
      "  (162756, 8245)\t0.18263544699387388\n",
      "  (162756, 30196)\t0.21303047821068055\n",
      "  (162756, 8175)\t0.13777401967057076\n",
      "  (162756, 57899)\t0.07542687064846222\n",
      "  (162756, 65220)\t-0.661763740118849\n",
      "  (162756, 65221)\t-1.3149674200239447\n",
      "  (162756, 65222)\t-2.2987708345520104\n",
      "  (162756, 65223)\t-1.0281292682297893\n",
      "  (162756, 65224)\t1.0640161745244239\n",
      "  (162756, 65225)\t-0.3125496379578653\n",
      "  (162757, 55226)\t0.6146717015914873\n",
      "  (162757, 48180)\t0.43784002597612587\n",
      "  (162757, 42493)\t0.5380916503358497\n",
      "  (162757, 19926)\t0.35485805323830827\n",
      "  (162757, 28621)\t0.12250693370830316\n",
      "  (162757, 65220)\t-0.661763740118849\n",
      "  (162757, 65221)\t-0.38506464750405933\n",
      "  (162757, 65222)\t-0.4766992685462034\n",
      "  (162757, 65223)\t-1.148276510415288\n",
      "  (162757, 65224)\t0.7063711596826784\n",
      "  (162757, 65225)\t-0.3125496379578653\n"
     ]
    }
   ],
   "source": [
    "print(data)"
   ]
  },
  {
   "cell_type": "code",
   "execution_count": 64,
   "id": "6ac2fa49",
   "metadata": {
    "execution": {
     "iopub.execute_input": "2023-07-24T13:26:34.011085Z",
     "iopub.status.busy": "2023-07-24T13:26:34.010703Z",
     "iopub.status.idle": "2023-07-24T13:26:34.027839Z",
     "shell.execute_reply": "2023-07-24T13:26:34.026714Z"
    },
    "papermill": {
     "duration": 0.04964,
     "end_time": "2023-07-24T13:26:34.030197",
     "exception": false,
     "start_time": "2023-07-24T13:26:33.980557",
     "status": "completed"
    },
    "tags": []
   },
   "outputs": [],
   "source": [
    "y_train =y_train.map({'POSITIVE': 1, 'NEGATIVE': -1})"
   ]
  },
  {
   "cell_type": "code",
   "execution_count": 65,
   "id": "7ff9a21f",
   "metadata": {
    "execution": {
     "iopub.execute_input": "2023-07-24T13:26:34.086787Z",
     "iopub.status.busy": "2023-07-24T13:26:34.086389Z",
     "iopub.status.idle": "2023-07-24T13:26:34.094591Z",
     "shell.execute_reply": "2023-07-24T13:26:34.093614Z"
    },
    "papermill": {
     "duration": 0.039148,
     "end_time": "2023-07-24T13:26:34.096756",
     "exception": false,
     "start_time": "2023-07-24T13:26:34.057608",
     "status": "completed"
    },
    "tags": []
   },
   "outputs": [
    {
     "data": {
      "text/plain": [
       "0         1\n",
       "1        -1\n",
       "2         1\n",
       "3         1\n",
       "4         1\n",
       "         ..\n",
       "162753    1\n",
       "162754   -1\n",
       "162755    1\n",
       "162756   -1\n",
       "162757    1\n",
       "Name: sentiment, Length: 162758, dtype: int64"
      ]
     },
     "execution_count": 65,
     "metadata": {},
     "output_type": "execute_result"
    }
   ],
   "source": [
    "y_train"
   ]
  },
  {
   "cell_type": "markdown",
   "id": "f313ef28",
   "metadata": {
    "papermill": {
     "duration": 0.026669,
     "end_time": "2023-07-24T13:26:34.150607",
     "exception": false,
     "start_time": "2023-07-24T13:26:34.123938",
     "status": "completed"
    },
    "tags": []
   },
   "source": [
    "# Model Training"
   ]
  },
  {
   "cell_type": "code",
   "execution_count": 66,
   "id": "1499c6b2",
   "metadata": {
    "execution": {
     "iopub.execute_input": "2023-07-24T13:26:34.207419Z",
     "iopub.status.busy": "2023-07-24T13:26:34.206447Z",
     "iopub.status.idle": "2023-07-24T13:26:34.211456Z",
     "shell.execute_reply": "2023-07-24T13:26:34.210369Z"
    },
    "papermill": {
     "duration": 0.035405,
     "end_time": "2023-07-24T13:26:34.213505",
     "exception": false,
     "start_time": "2023-07-24T13:26:34.178100",
     "status": "completed"
    },
    "tags": []
   },
   "outputs": [],
   "source": [
    "from sklearn.linear_model import LogisticRegression\n",
    "from sklearn.model_selection import GridSearchCV"
   ]
  },
  {
   "cell_type": "code",
   "execution_count": 67,
   "id": "6057b1e2",
   "metadata": {
    "execution": {
     "iopub.execute_input": "2023-07-24T13:26:34.269829Z",
     "iopub.status.busy": "2023-07-24T13:26:34.269453Z",
     "iopub.status.idle": "2023-07-24T13:29:52.727125Z",
     "shell.execute_reply": "2023-07-24T13:29:52.725962Z"
    },
    "papermill": {
     "duration": 198.584005,
     "end_time": "2023-07-24T13:29:52.825142",
     "exception": false,
     "start_time": "2023-07-24T13:26:34.241137",
     "status": "completed"
    },
    "tags": []
   },
   "outputs": [
    {
     "data": {
      "text/html": [
       "<style>#sk-container-id-2 {color: black;background-color: white;}#sk-container-id-2 pre{padding: 0;}#sk-container-id-2 div.sk-toggleable {background-color: white;}#sk-container-id-2 label.sk-toggleable__label {cursor: pointer;display: block;width: 100%;margin-bottom: 0;padding: 0.3em;box-sizing: border-box;text-align: center;}#sk-container-id-2 label.sk-toggleable__label-arrow:before {content: \"▸\";float: left;margin-right: 0.25em;color: #696969;}#sk-container-id-2 label.sk-toggleable__label-arrow:hover:before {color: black;}#sk-container-id-2 div.sk-estimator:hover label.sk-toggleable__label-arrow:before {color: black;}#sk-container-id-2 div.sk-toggleable__content {max-height: 0;max-width: 0;overflow: hidden;text-align: left;background-color: #f0f8ff;}#sk-container-id-2 div.sk-toggleable__content pre {margin: 0.2em;color: black;border-radius: 0.25em;background-color: #f0f8ff;}#sk-container-id-2 input.sk-toggleable__control:checked~div.sk-toggleable__content {max-height: 200px;max-width: 100%;overflow: auto;}#sk-container-id-2 input.sk-toggleable__control:checked~label.sk-toggleable__label-arrow:before {content: \"▾\";}#sk-container-id-2 div.sk-estimator input.sk-toggleable__control:checked~label.sk-toggleable__label {background-color: #d4ebff;}#sk-container-id-2 div.sk-label input.sk-toggleable__control:checked~label.sk-toggleable__label {background-color: #d4ebff;}#sk-container-id-2 input.sk-hidden--visually {border: 0;clip: rect(1px 1px 1px 1px);clip: rect(1px, 1px, 1px, 1px);height: 1px;margin: -1px;overflow: hidden;padding: 0;position: absolute;width: 1px;}#sk-container-id-2 div.sk-estimator {font-family: monospace;background-color: #f0f8ff;border: 1px dotted black;border-radius: 0.25em;box-sizing: border-box;margin-bottom: 0.5em;}#sk-container-id-2 div.sk-estimator:hover {background-color: #d4ebff;}#sk-container-id-2 div.sk-parallel-item::after {content: \"\";width: 100%;border-bottom: 1px solid gray;flex-grow: 1;}#sk-container-id-2 div.sk-label:hover label.sk-toggleable__label {background-color: #d4ebff;}#sk-container-id-2 div.sk-serial::before {content: \"\";position: absolute;border-left: 1px solid gray;box-sizing: border-box;top: 0;bottom: 0;left: 50%;z-index: 0;}#sk-container-id-2 div.sk-serial {display: flex;flex-direction: column;align-items: center;background-color: white;padding-right: 0.2em;padding-left: 0.2em;position: relative;}#sk-container-id-2 div.sk-item {position: relative;z-index: 1;}#sk-container-id-2 div.sk-parallel {display: flex;align-items: stretch;justify-content: center;background-color: white;position: relative;}#sk-container-id-2 div.sk-item::before, #sk-container-id-2 div.sk-parallel-item::before {content: \"\";position: absolute;border-left: 1px solid gray;box-sizing: border-box;top: 0;bottom: 0;left: 50%;z-index: -1;}#sk-container-id-2 div.sk-parallel-item {display: flex;flex-direction: column;z-index: 1;position: relative;background-color: white;}#sk-container-id-2 div.sk-parallel-item:first-child::after {align-self: flex-end;width: 50%;}#sk-container-id-2 div.sk-parallel-item:last-child::after {align-self: flex-start;width: 50%;}#sk-container-id-2 div.sk-parallel-item:only-child::after {width: 0;}#sk-container-id-2 div.sk-dashed-wrapped {border: 1px dashed gray;margin: 0 0.4em 0.5em 0.4em;box-sizing: border-box;padding-bottom: 0.4em;background-color: white;}#sk-container-id-2 div.sk-label label {font-family: monospace;font-weight: bold;display: inline-block;line-height: 1.2em;}#sk-container-id-2 div.sk-label-container {text-align: center;}#sk-container-id-2 div.sk-container {/* jupyter's `normalize.less` sets `[hidden] { display: none; }` but bootstrap.min.css set `[hidden] { display: none !important; }` so we also need the `!important` here to be able to override the default hidden behavior on the sphinx rendered scikit-learn.org. See: https://github.com/scikit-learn/scikit-learn/issues/21755 */display: inline-block !important;position: relative;}#sk-container-id-2 div.sk-text-repr-fallback {display: none;}</style><div id=\"sk-container-id-2\" class=\"sk-top-container\"><div class=\"sk-text-repr-fallback\"><pre>GridSearchCV(cv=5,\n",
       "             estimator=LogisticRegression(max_iter=1000, solver=&#x27;liblinear&#x27;),\n",
       "             param_grid={&#x27;C&#x27;: [0.1, 1, 10], &#x27;penalty&#x27;: [&#x27;l1&#x27;, &#x27;l2&#x27;]})</pre><b>In a Jupyter environment, please rerun this cell to show the HTML representation or trust the notebook. <br />On GitHub, the HTML representation is unable to render, please try loading this page with nbviewer.org.</b></div><div class=\"sk-container\" hidden><div class=\"sk-item sk-dashed-wrapped\"><div class=\"sk-label-container\"><div class=\"sk-label sk-toggleable\"><input class=\"sk-toggleable__control sk-hidden--visually\" id=\"sk-estimator-id-2\" type=\"checkbox\" ><label for=\"sk-estimator-id-2\" class=\"sk-toggleable__label sk-toggleable__label-arrow\">GridSearchCV</label><div class=\"sk-toggleable__content\"><pre>GridSearchCV(cv=5,\n",
       "             estimator=LogisticRegression(max_iter=1000, solver=&#x27;liblinear&#x27;),\n",
       "             param_grid={&#x27;C&#x27;: [0.1, 1, 10], &#x27;penalty&#x27;: [&#x27;l1&#x27;, &#x27;l2&#x27;]})</pre></div></div></div><div class=\"sk-parallel\"><div class=\"sk-parallel-item\"><div class=\"sk-item\"><div class=\"sk-label-container\"><div class=\"sk-label sk-toggleable\"><input class=\"sk-toggleable__control sk-hidden--visually\" id=\"sk-estimator-id-3\" type=\"checkbox\" ><label for=\"sk-estimator-id-3\" class=\"sk-toggleable__label sk-toggleable__label-arrow\">estimator: LogisticRegression</label><div class=\"sk-toggleable__content\"><pre>LogisticRegression(max_iter=1000, solver=&#x27;liblinear&#x27;)</pre></div></div></div><div class=\"sk-serial\"><div class=\"sk-item\"><div class=\"sk-estimator sk-toggleable\"><input class=\"sk-toggleable__control sk-hidden--visually\" id=\"sk-estimator-id-4\" type=\"checkbox\" ><label for=\"sk-estimator-id-4\" class=\"sk-toggleable__label sk-toggleable__label-arrow\">LogisticRegression</label><div class=\"sk-toggleable__content\"><pre>LogisticRegression(max_iter=1000, solver=&#x27;liblinear&#x27;)</pre></div></div></div></div></div></div></div></div></div></div>"
      ],
      "text/plain": [
       "GridSearchCV(cv=5,\n",
       "             estimator=LogisticRegression(max_iter=1000, solver='liblinear'),\n",
       "             param_grid={'C': [0.1, 1, 10], 'penalty': ['l1', 'l2']})"
      ]
     },
     "execution_count": 67,
     "metadata": {},
     "output_type": "execute_result"
    }
   ],
   "source": [
    "logreg = LogisticRegression(max_iter=1000,solver='liblinear')\n",
    "param_grid = {\n",
    "    'C': [ 0.1, 1, 10],\n",
    "    'penalty':['l1','l2']\n",
    "}\n",
    "grid_search_log = GridSearchCV(logreg, param_grid, cv=5)\n",
    "grid_search_log.fit(data, y_train)"
   ]
  },
  {
   "cell_type": "code",
   "execution_count": 68,
   "id": "56b2e00b",
   "metadata": {
    "execution": {
     "iopub.execute_input": "2023-07-24T13:29:52.882885Z",
     "iopub.status.busy": "2023-07-24T13:29:52.882526Z",
     "iopub.status.idle": "2023-07-24T13:29:52.918033Z",
     "shell.execute_reply": "2023-07-24T13:29:52.916868Z"
    },
    "papermill": {
     "duration": 0.067137,
     "end_time": "2023-07-24T13:29:52.920234",
     "exception": false,
     "start_time": "2023-07-24T13:29:52.853097",
     "status": "completed"
    },
    "tags": []
   },
   "outputs": [
    {
     "data": {
      "text/plain": [
       "0.8463547106747441"
      ]
     },
     "execution_count": 68,
     "metadata": {},
     "output_type": "execute_result"
    }
   ],
   "source": [
    "grid_search_log.score(data,y_train)"
   ]
  },
  {
   "cell_type": "code",
   "execution_count": 69,
   "id": "9e4a8d03",
   "metadata": {
    "execution": {
     "iopub.execute_input": "2023-07-24T13:29:52.978122Z",
     "iopub.status.busy": "2023-07-24T13:29:52.977565Z",
     "iopub.status.idle": "2023-07-24T13:36:44.911749Z",
     "shell.execute_reply": "2023-07-24T13:36:44.910654Z"
    },
    "papermill": {
     "duration": 411.993929,
     "end_time": "2023-07-24T13:36:44.942130",
     "exception": false,
     "start_time": "2023-07-24T13:29:52.948201",
     "status": "completed"
    },
    "tags": []
   },
   "outputs": [
    {
     "data": {
      "text/plain": [
       "0.7288182454933091"
      ]
     },
     "execution_count": 69,
     "metadata": {},
     "output_type": "execute_result"
    }
   ],
   "source": [
    "from sklearn.tree import DecisionTreeClassifier\n",
    "param_grid = {\n",
    "    'max_depth': [ 5, 10],              \n",
    "    'min_samples_split': [2, 5, 10]            \n",
    "}\n",
    "dt_classifier = DecisionTreeClassifier()\n",
    "grid_search_dt = GridSearchCV(dt_classifier, param_grid, cv=5)\n",
    "grid_search_dt.fit(data, y_train)\n",
    "grid_search_dt.score(data,y_train)"
   ]
  },
  {
   "cell_type": "code",
   "execution_count": 70,
   "id": "033ed40b",
   "metadata": {
    "execution": {
     "iopub.execute_input": "2023-07-24T13:36:45.003265Z",
     "iopub.status.busy": "2023-07-24T13:36:45.002627Z",
     "iopub.status.idle": "2023-07-24T13:37:55.792490Z",
     "shell.execute_reply": "2023-07-24T13:37:55.791300Z"
    },
    "papermill": {
     "duration": 70.851563,
     "end_time": "2023-07-24T13:37:55.822588",
     "exception": false,
     "start_time": "2023-07-24T13:36:44.971025",
     "status": "completed"
    },
    "tags": []
   },
   "outputs": [
    {
     "data": {
      "text/plain": [
       "0.7982833409110458"
      ]
     },
     "execution_count": 70,
     "metadata": {},
     "output_type": "execute_result"
    }
   ],
   "source": [
    "import xgboost as xgb\n",
    "\n",
    "grid_search_xg = xgb.XGBClassifier()\n",
    "grid_search_xg.fit(data, (y_train+1)/2)\n",
    "grid_search_xg.score(data,(y_train+1)/2)"
   ]
  },
  {
   "cell_type": "code",
   "execution_count": 71,
   "id": "d6ed4dd5",
   "metadata": {
    "execution": {
     "iopub.execute_input": "2023-07-24T13:37:55.883138Z",
     "iopub.status.busy": "2023-07-24T13:37:55.882735Z",
     "iopub.status.idle": "2023-07-24T13:37:56.031687Z",
     "shell.execute_reply": "2023-07-24T13:37:56.030241Z"
    },
    "papermill": {
     "duration": 0.180654,
     "end_time": "2023-07-24T13:37:56.034207",
     "exception": false,
     "start_time": "2023-07-24T13:37:55.853553",
     "status": "completed"
    },
    "tags": []
   },
   "outputs": [
    {
     "name": "stdout",
     "output_type": "stream",
     "text": [
      "[[ 36863  17134]\n",
      " [  7873 100888]]\n"
     ]
    }
   ],
   "source": [
    "from sklearn.metrics import confusion_matrix\n",
    "\n",
    "y_train_pred = grid_search_log.predict(data)\n",
    "\n",
    "cm = confusion_matrix(y_train,y_train_pred )\n",
    "\n",
    "print(cm)"
   ]
  },
  {
   "cell_type": "code",
   "execution_count": 72,
   "id": "f592130f",
   "metadata": {
    "execution": {
     "iopub.execute_input": "2023-07-24T13:37:56.094523Z",
     "iopub.status.busy": "2023-07-24T13:37:56.093751Z",
     "iopub.status.idle": "2023-07-24T13:37:56.100363Z",
     "shell.execute_reply": "2023-07-24T13:37:56.099169Z"
    },
    "papermill": {
     "duration": 0.039148,
     "end_time": "2023-07-24T13:37:56.102546",
     "exception": false,
     "start_time": "2023-07-24T13:37:56.063398",
     "status": "completed"
    },
    "tags": []
   },
   "outputs": [
    {
     "name": "stdout",
     "output_type": "stream",
     "text": [
      "Precision: 0.8548236769415871\n",
      "Recall: 0.927611919713868\n"
     ]
    }
   ],
   "source": [
    "from sklearn.metrics import precision_score, recall_score\n",
    "\n",
    "TP = cm[1, 1]\n",
    "TN = cm[0, 0]\n",
    "FP = cm[0, 1]\n",
    "FN = cm[1, 0]\n",
    "\n",
    "precision = TP / (TP + FP)\n",
    "recall = TP / (TP + FN)\n",
    "\n",
    "print(\"Precision:\", precision)\n",
    "print(\"Recall:\", recall)"
   ]
  },
  {
   "cell_type": "markdown",
   "id": "1d1cc7c0",
   "metadata": {
    "papermill": {
     "duration": 0.028443,
     "end_time": "2023-07-24T13:37:56.159884",
     "exception": false,
     "start_time": "2023-07-24T13:37:56.131441",
     "status": "completed"
    },
    "tags": []
   },
   "source": [
    "# Plotting ROC curve"
   ]
  },
  {
   "cell_type": "code",
   "execution_count": 73,
   "id": "ad467720",
   "metadata": {
    "execution": {
     "iopub.execute_input": "2023-07-24T13:37:56.217662Z",
     "iopub.status.busy": "2023-07-24T13:37:56.217275Z",
     "iopub.status.idle": "2023-07-24T13:37:56.221952Z",
     "shell.execute_reply": "2023-07-24T13:37:56.220850Z"
    },
    "papermill": {
     "duration": 0.036454,
     "end_time": "2023-07-24T13:37:56.224272",
     "exception": false,
     "start_time": "2023-07-24T13:37:56.187818",
     "status": "completed"
    },
    "tags": []
   },
   "outputs": [],
   "source": [
    "import matplotlib.pyplot as plt\n",
    "from sklearn.metrics import roc_curve, roc_auc_score"
   ]
  },
  {
   "cell_type": "code",
   "execution_count": 74,
   "id": "79faca6c",
   "metadata": {
    "execution": {
     "iopub.execute_input": "2023-07-24T13:37:56.283630Z",
     "iopub.status.busy": "2023-07-24T13:37:56.283154Z",
     "iopub.status.idle": "2023-07-24T13:37:56.396965Z",
     "shell.execute_reply": "2023-07-24T13:37:56.395630Z"
    },
    "papermill": {
     "duration": 0.146408,
     "end_time": "2023-07-24T13:37:56.399812",
     "exception": false,
     "start_time": "2023-07-24T13:37:56.253404",
     "status": "completed"
    },
    "tags": []
   },
   "outputs": [],
   "source": [
    "y_probs = grid_search_log.predict_proba(data)[:, 1]\n",
    "fpr, tpr, thresholds = roc_curve(y_train, y_probs)\n",
    "roc_auc = roc_auc_score(y_train, y_probs)"
   ]
  },
  {
   "cell_type": "code",
   "execution_count": 75,
   "id": "2ee6dab4",
   "metadata": {
    "execution": {
     "iopub.execute_input": "2023-07-24T13:37:56.460688Z",
     "iopub.status.busy": "2023-07-24T13:37:56.459708Z",
     "iopub.status.idle": "2023-07-24T13:37:56.755640Z",
     "shell.execute_reply": "2023-07-24T13:37:56.754542Z"
    },
    "papermill": {
     "duration": 0.32907,
     "end_time": "2023-07-24T13:37:56.758244",
     "exception": false,
     "start_time": "2023-07-24T13:37:56.429174",
     "status": "completed"
    },
    "tags": []
   },
   "outputs": [
    {
     "data": {
      "image/png": "[encoded data removed]",
      "text/plain": [
       "<Figure size 800x600 with 1 Axes>"
      ]
     },
     "metadata": {},
     "output_type": "display_data"
    }
   ],
   "source": [
    "plt.figure(figsize=(8, 6))\n",
    "plt.plot(fpr, tpr, color='blue', lw=2, label=f'ROC Curve (AUC = {roc_auc:.2f})')\n",
    "plt.plot([0, 1], [0, 1], color='gray', linestyle='--')\n",
    "plt.xlabel('False Positive Rate (1 - Specificity)')\n",
    "plt.ylabel('True Positive Rate (Sensitivity)')\n",
    "plt.title('Receiver Operating Characteristic (ROC) Curve')\n",
    "plt.legend(loc='lower right')\n",
    "plt.grid(True)\n",
    "plt.show()"
   ]
  },
  {
   "cell_type": "code",
   "execution_count": 76,
   "id": "6e1e7338",
   "metadata": {
    "execution": {
     "iopub.execute_input": "2023-07-24T13:37:56.818817Z",
     "iopub.status.busy": "2023-07-24T13:37:56.818394Z",
     "iopub.status.idle": "2023-07-24T13:37:56.895911Z",
     "shell.execute_reply": "2023-07-24T13:37:56.894537Z"
    },
    "papermill": {
     "duration": 0.110577,
     "end_time": "2023-07-24T13:37:56.898378",
     "exception": false,
     "start_time": "2023-07-24T13:37:56.787801",
     "status": "completed"
    },
    "tags": []
   },
   "outputs": [],
   "source": [
    "test_data = pd.merge(test, movies, on='movieid', how='left')"
   ]
  },
  {
   "cell_type": "code",
   "execution_count": 77,
   "id": "1ce66e7e",
   "metadata": {
    "execution": {
     "iopub.execute_input": "2023-07-24T13:37:56.958886Z",
     "iopub.status.busy": "2023-07-24T13:37:56.958492Z",
     "iopub.status.idle": "2023-07-24T13:37:56.968882Z",
     "shell.execute_reply": "2023-07-24T13:37:56.967860Z"
    },
    "papermill": {
     "duration": 0.042618,
     "end_time": "2023-07-24T13:37:56.970930",
     "exception": false,
     "start_time": "2023-07-24T13:37:56.928312",
     "status": "completed"
    },
    "tags": []
   },
   "outputs": [],
   "source": [
    "test_data.drop(['movieid', 'reviewerName'], axis=1, inplace=True)"
   ]
  },
  {
   "cell_type": "code",
   "execution_count": 78,
   "id": "30bff99b",
   "metadata": {
    "execution": {
     "iopub.execute_input": "2023-07-24T13:37:57.031350Z",
     "iopub.status.busy": "2023-07-24T13:37:57.030945Z",
     "iopub.status.idle": "2023-07-24T13:37:57.049107Z",
     "shell.execute_reply": "2023-07-24T13:37:57.048069Z"
    },
    "papermill": {
     "duration": 0.051247,
     "end_time": "2023-07-24T13:37:57.051401",
     "exception": false,
     "start_time": "2023-07-24T13:37:57.000154",
     "status": "completed"
    },
    "tags": []
   },
   "outputs": [
    {
     "data": {
      "text/html": [
       "<div>\n",
       "<style scoped>\n",
       "    .dataframe tbody tr th:only-of-type {\n",
       "        vertical-align: middle;\n",
       "    }\n",
       "\n",
       "    .dataframe tbody tr th {\n",
       "        vertical-align: top;\n",
       "    }\n",
       "\n",
       "    .dataframe thead th {\n",
       "        text-align: right;\n",
       "    }\n",
       "</style>\n",
       "<table border=\"1\" class=\"dataframe\">\n",
       "  <thead>\n",
       "    <tr style=\"text-align: right;\">\n",
       "      <th></th>\n",
       "      <th>isTopCritic</th>\n",
       "      <th>reviewText</th>\n",
       "      <th>audienceScore</th>\n",
       "      <th>releaseDateStreaming</th>\n",
       "      <th>runtimeMinutes</th>\n",
       "      <th>genre</th>\n",
       "      <th>originalLanguage</th>\n",
       "    </tr>\n",
       "  </thead>\n",
       "  <tbody>\n",
       "    <tr>\n",
       "      <th>0</th>\n",
       "      <td>False</td>\n",
       "      <td>Green slowly cranks up the dread with style an...</td>\n",
       "      <td>57.000000</td>\n",
       "      <td>34268</td>\n",
       "      <td>111.00000</td>\n",
       "      <td>1779</td>\n",
       "      <td>22</td>\n",
       "    </tr>\n",
       "    <tr>\n",
       "      <th>1</th>\n",
       "      <td>False</td>\n",
       "      <td>Philip Noyce's direction is elegant and unforc...</td>\n",
       "      <td>86.000000</td>\n",
       "      <td>27146</td>\n",
       "      <td>94.00000</td>\n",
       "      <td>1271</td>\n",
       "      <td>22</td>\n",
       "    </tr>\n",
       "    <tr>\n",
       "      <th>2</th>\n",
       "      <td>False</td>\n",
       "      <td>It wouldn't do to say what path Maria ultimate...</td>\n",
       "      <td>62.000000</td>\n",
       "      <td>31267</td>\n",
       "      <td>93.57045</td>\n",
       "      <td>1248</td>\n",
       "      <td>29</td>\n",
       "    </tr>\n",
       "    <tr>\n",
       "      <th>3</th>\n",
       "      <td>False</td>\n",
       "      <td>Pig is not exactly the arthouse John Wick that...</td>\n",
       "      <td>84.000000</td>\n",
       "      <td>33831</td>\n",
       "      <td>92.00000</td>\n",
       "      <td>1421</td>\n",
       "      <td>22</td>\n",
       "    </tr>\n",
       "    <tr>\n",
       "      <th>4</th>\n",
       "      <td>False</td>\n",
       "      <td>An imaginative no-budget musical of sorts abou...</td>\n",
       "      <td>44.297597</td>\n",
       "      <td>31267</td>\n",
       "      <td>66.00000</td>\n",
       "      <td>1408</td>\n",
       "      <td>3</td>\n",
       "    </tr>\n",
       "    <tr>\n",
       "      <th>...</th>\n",
       "      <td>...</td>\n",
       "      <td>...</td>\n",
       "      <td>...</td>\n",
       "      <td>...</td>\n",
       "      <td>...</td>\n",
       "      <td>...</td>\n",
       "      <td>...</td>\n",
       "    </tr>\n",
       "    <tr>\n",
       "      <th>55310</th>\n",
       "      <td>False</td>\n",
       "      <td>Ron Howard delivers an unconventional romantic...</td>\n",
       "      <td>29.000000</td>\n",
       "      <td>30086</td>\n",
       "      <td>111.00000</td>\n",
       "      <td>700</td>\n",
       "      <td>22</td>\n",
       "    </tr>\n",
       "    <tr>\n",
       "      <th>55311</th>\n",
       "      <td>False</td>\n",
       "      <td>As an oddball art film that openly invites you...</td>\n",
       "      <td>71.000000</td>\n",
       "      <td>30744</td>\n",
       "      <td>116.00000</td>\n",
       "      <td>786</td>\n",
       "      <td>22</td>\n",
       "    </tr>\n",
       "    <tr>\n",
       "      <th>55312</th>\n",
       "      <td>False</td>\n",
       "      <td>Nicholson wears his devilish grin from his fir...</td>\n",
       "      <td>60.000000</td>\n",
       "      <td>27300</td>\n",
       "      <td>106.00000</td>\n",
       "      <td>700</td>\n",
       "      <td>22</td>\n",
       "    </tr>\n",
       "    <tr>\n",
       "      <th>55313</th>\n",
       "      <td>True</td>\n",
       "      <td>It's hard not be entertained by two dozen of C...</td>\n",
       "      <td>65.000000</td>\n",
       "      <td>27762</td>\n",
       "      <td>125.00000</td>\n",
       "      <td>2284</td>\n",
       "      <td>22</td>\n",
       "    </tr>\n",
       "    <tr>\n",
       "      <th>55314</th>\n",
       "      <td>True</td>\n",
       "      <td>Not clever enough for Smith fans, not gross en...</td>\n",
       "      <td>75.000000</td>\n",
       "      <td>26733</td>\n",
       "      <td>104.00000</td>\n",
       "      <td>700</td>\n",
       "      <td>22</td>\n",
       "    </tr>\n",
       "  </tbody>\n",
       "</table>\n",
       "<p>55315 rows × 7 columns</p>\n",
       "</div>"
      ],
      "text/plain": [
       "       isTopCritic                                         reviewText  \\\n",
       "0            False  Green slowly cranks up the dread with style an...   \n",
       "1            False  Philip Noyce's direction is elegant and unforc...   \n",
       "2            False  It wouldn't do to say what path Maria ultimate...   \n",
       "3            False  Pig is not exactly the arthouse John Wick that...   \n",
       "4            False  An imaginative no-budget musical of sorts abou...   \n",
       "...            ...                                                ...   \n",
       "55310        False  Ron Howard delivers an unconventional romantic...   \n",
       "55311        False  As an oddball art film that openly invites you...   \n",
       "55312        False  Nicholson wears his devilish grin from his fir...   \n",
       "55313         True  It's hard not be entertained by two dozen of C...   \n",
       "55314         True  Not clever enough for Smith fans, not gross en...   \n",
       "\n",
       "       audienceScore  releaseDateStreaming  runtimeMinutes  genre  \\\n",
       "0          57.000000                 34268       111.00000   1779   \n",
       "1          86.000000                 27146        94.00000   1271   \n",
       "2          62.000000                 31267        93.57045   1248   \n",
       "3          84.000000                 33831        92.00000   1421   \n",
       "4          44.297597                 31267        66.00000   1408   \n",
       "...              ...                   ...             ...    ...   \n",
       "55310      29.000000                 30086       111.00000    700   \n",
       "55311      71.000000                 30744       116.00000    786   \n",
       "55312      60.000000                 27300       106.00000    700   \n",
       "55313      65.000000                 27762       125.00000   2284   \n",
       "55314      75.000000                 26733       104.00000    700   \n",
       "\n",
       "       originalLanguage  \n",
       "0                    22  \n",
       "1                    22  \n",
       "2                    29  \n",
       "3                    22  \n",
       "4                     3  \n",
       "...                 ...  \n",
       "55310                22  \n",
       "55311                22  \n",
       "55312                22  \n",
       "55313                22  \n",
       "55314                22  \n",
       "\n",
       "[55315 rows x 7 columns]"
      ]
     },
     "execution_count": 78,
     "metadata": {},
     "output_type": "execute_result"
    }
   ],
   "source": [
    "test_data"
   ]
  },
  {
   "cell_type": "code",
   "execution_count": 79,
   "id": "5a34d166",
   "metadata": {
    "execution": {
     "iopub.execute_input": "2023-07-24T13:37:57.113113Z",
     "iopub.status.busy": "2023-07-24T13:37:57.112705Z",
     "iopub.status.idle": "2023-07-24T13:37:57.121989Z",
     "shell.execute_reply": "2023-07-24T13:37:57.120907Z"
    },
    "papermill": {
     "duration": 0.043683,
     "end_time": "2023-07-24T13:37:57.124408",
     "exception": false,
     "start_time": "2023-07-24T13:37:57.080725",
     "status": "completed"
    },
    "tags": []
   },
   "outputs": [],
   "source": [
    "test_data['isTopCritic'] = le.fit_transform(test_data['isTopCritic'].fillna('Unknown'))"
   ]
  },
  {
   "cell_type": "code",
   "execution_count": 80,
   "id": "bc10b6c8",
   "metadata": {
    "execution": {
     "iopub.execute_input": "2023-07-24T13:37:57.186620Z",
     "iopub.status.busy": "2023-07-24T13:37:57.186055Z",
     "iopub.status.idle": "2023-07-24T13:37:57.201873Z",
     "shell.execute_reply": "2023-07-24T13:37:57.200124Z"
    },
    "papermill": {
     "duration": 0.049658,
     "end_time": "2023-07-24T13:37:57.204312",
     "exception": false,
     "start_time": "2023-07-24T13:37:57.154654",
     "status": "completed"
    },
    "tags": []
   },
   "outputs": [],
   "source": [
    "test_data.reviewText = test_data.reviewText.fillna('')"
   ]
  },
  {
   "cell_type": "code",
   "execution_count": 81,
   "id": "14cc2324",
   "metadata": {
    "execution": {
     "iopub.execute_input": "2023-07-24T13:37:57.269066Z",
     "iopub.status.busy": "2023-07-24T13:37:57.268697Z",
     "iopub.status.idle": "2023-07-24T13:37:58.578628Z",
     "shell.execute_reply": "2023-07-24T13:37:58.577555Z"
    },
    "papermill": {
     "duration": 1.344734,
     "end_time": "2023-07-24T13:37:58.581214",
     "exception": false,
     "start_time": "2023-07-24T13:37:57.236480",
     "status": "completed"
    },
    "tags": []
   },
   "outputs": [],
   "source": [
    "Y= tfidf.transform(test_data[\"reviewText\"])"
   ]
  },
  {
   "cell_type": "code",
   "execution_count": 82,
   "id": "3eda78ed",
   "metadata": {
    "execution": {
     "iopub.execute_input": "2023-07-24T13:37:58.642326Z",
     "iopub.status.busy": "2023-07-24T13:37:58.641960Z",
     "iopub.status.idle": "2023-07-24T13:37:58.648867Z",
     "shell.execute_reply": "2023-07-24T13:37:58.647793Z"
    },
    "papermill": {
     "duration": 0.039988,
     "end_time": "2023-07-24T13:37:58.651054",
     "exception": false,
     "start_time": "2023-07-24T13:37:58.611066",
     "status": "completed"
    },
    "tags": []
   },
   "outputs": [],
   "source": [
    "test_data = test_data.drop('reviewText', axis=1)"
   ]
  },
  {
   "cell_type": "code",
   "execution_count": 83,
   "id": "0007a9b6",
   "metadata": {
    "execution": {
     "iopub.execute_input": "2023-07-24T13:37:58.712899Z",
     "iopub.status.busy": "2023-07-24T13:37:58.712530Z",
     "iopub.status.idle": "2023-07-24T13:37:58.717797Z",
     "shell.execute_reply": "2023-07-24T13:37:58.716670Z"
    },
    "papermill": {
     "duration": 0.038426,
     "end_time": "2023-07-24T13:37:58.719884",
     "exception": false,
     "start_time": "2023-07-24T13:37:58.681458",
     "status": "completed"
    },
    "tags": []
   },
   "outputs": [],
   "source": [
    "test_data.rename(columns={'isTopCritic': 'isFrequentReviewer'}, inplace=True)\n"
   ]
  },
  {
   "cell_type": "code",
   "execution_count": 84,
   "id": "a9a94366",
   "metadata": {
    "execution": {
     "iopub.execute_input": "2023-07-24T13:37:58.780735Z",
     "iopub.status.busy": "2023-07-24T13:37:58.780237Z",
     "iopub.status.idle": "2023-07-24T13:37:58.790865Z",
     "shell.execute_reply": "2023-07-24T13:37:58.789749Z"
    },
    "papermill": {
     "duration": 0.044159,
     "end_time": "2023-07-24T13:37:58.793498",
     "exception": false,
     "start_time": "2023-07-24T13:37:58.749339",
     "status": "completed"
    },
    "tags": []
   },
   "outputs": [],
   "source": [
    "test_data=ss.transform(test_data)"
   ]
  },
  {
   "cell_type": "code",
   "execution_count": 85,
   "id": "ae8ac498",
   "metadata": {
    "execution": {
     "iopub.execute_input": "2023-07-24T13:37:58.854533Z",
     "iopub.status.busy": "2023-07-24T13:37:58.853906Z",
     "iopub.status.idle": "2023-07-24T13:37:58.882239Z",
     "shell.execute_reply": "2023-07-24T13:37:58.881373Z"
    },
    "papermill": {
     "duration": 0.061616,
     "end_time": "2023-07-24T13:37:58.884631",
     "exception": false,
     "start_time": "2023-07-24T13:37:58.823015",
     "status": "completed"
    },
    "tags": []
   },
   "outputs": [],
   "source": [
    "test_data= hstack([Y, csr_matrix(test_data)])"
   ]
  },
  {
   "cell_type": "markdown",
   "id": "2364784e",
   "metadata": {
    "papermill": {
     "duration": 0.029019,
     "end_time": "2023-07-24T13:37:58.943613",
     "exception": false,
     "start_time": "2023-07-24T13:37:58.914594",
     "status": "completed"
    },
    "tags": []
   },
   "source": [
    "## Logistic regression has the best accuracy among the 3 models compared."
   ]
  },
  {
   "cell_type": "code",
   "execution_count": 86,
   "id": "17daf88c",
   "metadata": {
    "execution": {
     "iopub.execute_input": "2023-07-24T13:37:59.006479Z",
     "iopub.status.busy": "2023-07-24T13:37:59.006053Z",
     "iopub.status.idle": "2023-07-24T13:37:59.015093Z",
     "shell.execute_reply": "2023-07-24T13:37:59.014338Z"
    },
    "papermill": {
     "duration": 0.043921,
     "end_time": "2023-07-24T13:37:59.017237",
     "exception": false,
     "start_time": "2023-07-24T13:37:58.973316",
     "status": "completed"
    },
    "tags": []
   },
   "outputs": [],
   "source": [
    "y_pred = grid_search_log.predict(test_data)"
   ]
  },
  {
   "cell_type": "code",
   "execution_count": 87,
   "id": "3138593f",
   "metadata": {
    "execution": {
     "iopub.execute_input": "2023-07-24T13:37:59.077853Z",
     "iopub.status.busy": "2023-07-24T13:37:59.077035Z",
     "iopub.status.idle": "2023-07-24T13:37:59.082805Z",
     "shell.execute_reply": "2023-07-24T13:37:59.081878Z"
    },
    "papermill": {
     "duration": 0.038209,
     "end_time": "2023-07-24T13:37:59.084865",
     "exception": false,
     "start_time": "2023-07-24T13:37:59.046656",
     "status": "completed"
    },
    "tags": []
   },
   "outputs": [
    {
     "data": {
      "text/plain": [
       "array([ 1,  1,  1, ..., -1,  1, -1])"
      ]
     },
     "execution_count": 87,
     "metadata": {},
     "output_type": "execute_result"
    }
   ],
   "source": [
    "y_pred"
   ]
  },
  {
   "cell_type": "code",
   "execution_count": 88,
   "id": "8747eae9",
   "metadata": {
    "execution": {
     "iopub.execute_input": "2023-07-24T13:37:59.147933Z",
     "iopub.status.busy": "2023-07-24T13:37:59.147317Z",
     "iopub.status.idle": "2023-07-24T13:37:59.194623Z",
     "shell.execute_reply": "2023-07-24T13:37:59.193516Z"
    },
    "papermill": {
     "duration": 0.081773,
     "end_time": "2023-07-24T13:37:59.197127",
     "exception": false,
     "start_time": "2023-07-24T13:37:59.115354",
     "status": "completed"
    },
    "tags": []
   },
   "outputs": [],
   "source": [
    "submission = pd.DataFrame(columns=['id','sentiment'])\n",
    "submission['id']=[ i for i in range(test.shape[0])]\n",
    "submission['sentiment']=y_pred"
   ]
  },
  {
   "cell_type": "code",
   "execution_count": 89,
   "id": "4bd43b98",
   "metadata": {
    "execution": {
     "iopub.execute_input": "2023-07-24T13:37:59.260376Z",
     "iopub.status.busy": "2023-07-24T13:37:59.259981Z",
     "iopub.status.idle": "2023-07-24T13:37:59.269837Z",
     "shell.execute_reply": "2023-07-24T13:37:59.268810Z"
    },
    "papermill": {
     "duration": 0.043584,
     "end_time": "2023-07-24T13:37:59.271944",
     "exception": false,
     "start_time": "2023-07-24T13:37:59.228360",
     "status": "completed"
    },
    "tags": []
   },
   "outputs": [],
   "source": [
    "submission['sentiment'] = submission['sentiment'].replace({1: \"POSITIVE\", -1: \"NEGATIVE\"})\n"
   ]
  },
  {
   "cell_type": "code",
   "execution_count": 90,
   "id": "60fc3e16",
   "metadata": {
    "execution": {
     "iopub.execute_input": "2023-07-24T13:37:59.334767Z",
     "iopub.status.busy": "2023-07-24T13:37:59.333772Z",
     "iopub.status.idle": "2023-07-24T13:37:59.424218Z",
     "shell.execute_reply": "2023-07-24T13:37:59.422837Z"
    },
    "papermill": {
     "duration": 0.125046,
     "end_time": "2023-07-24T13:37:59.426836",
     "exception": false,
     "start_time": "2023-07-24T13:37:59.301790",
     "status": "completed"
    },
    "tags": []
   },
   "outputs": [],
   "source": [
    "submission.to_csv('submission.csv',index=False)\n"
   ]
  },
  {
   "cell_type": "code",
   "execution_count": 91,
   "id": "c91e0d83",
   "metadata": {
    "execution": {
     "iopub.execute_input": "2023-07-24T13:37:59.487615Z",
     "iopub.status.busy": "2023-07-24T13:37:59.487226Z",
     "iopub.status.idle": "2023-07-24T13:37:59.499476Z",
     "shell.execute_reply": "2023-07-24T13:37:59.498388Z"
    },
    "papermill": {
     "duration": 0.045478,
     "end_time": "2023-07-24T13:37:59.501815",
     "exception": false,
     "start_time": "2023-07-24T13:37:59.456337",
     "status": "completed"
    },
    "tags": []
   },
   "outputs": [
    {
     "data": {
      "text/plain": [
       "POSITIVE    40417\n",
       "NEGATIVE    14898\n",
       "Name: sentiment, dtype: int64"
      ]
     },
     "execution_count": 91,
     "metadata": {},
     "output_type": "execute_result"
    }
   ],
   "source": [
    "submission.sentiment.value_counts()"
   ]
  },
  {
   "cell_type": "code",
   "execution_count": null,
   "id": "af24d473",
   "metadata": {
    "papermill": {
     "duration": 0.031871,
     "end_time": "2023-07-24T13:37:59.563573",
     "exception": false,
     "start_time": "2023-07-24T13:37:59.531702",
     "status": "completed"
    },
    "tags": []
   },
   "outputs": [],
   "source": []
  },
  {
   "cell_type": "code",
   "execution_count": null,
   "id": "efafe811",
   "metadata": {
    "papermill": {
     "duration": 0.029574,
     "end_time": "2023-07-24T13:37:59.623124",
     "exception": false,
     "start_time": "2023-07-24T13:37:59.593550",
     "status": "completed"
    },
    "tags": []
   },
   "outputs": [],
   "source": []
  }
 ],
 "metadata": {
  "kernelspec": {
   "display_name": "Python 3",
   "language": "python",
   "name": "python3"
  },
  "language_info": {
   "codemirror_mode": {
    "name": "ipython",
    "version": 3
   },
   "file_extension": ".py",
   "mimetype": "text/x-python",
   "name": "python",
   "nbconvert_exporter": "python",
   "pygments_lexer": "ipython3",
   "version": "3.10.10"
  },
  "papermill": {
   "default_parameters": {},
   "duration": 713.504951,
   "end_time": "2023-07-24T13:38:00.675886",
   "environment_variables": {},
   "exception": null,
   "input_path": "__notebook__.ipynb",
   "output_path": "__notebook__.ipynb",
   "parameters": {},
   "start_time": "2023-07-24T13:26:07.170935",
   "version": "2.4.0"
  }
 },
 "nbformat": 4,
 "nbformat_minor": 5
}
